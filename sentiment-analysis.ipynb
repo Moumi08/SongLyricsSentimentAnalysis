{
 "cells": [
  {
   "cell_type": "markdown",
   "id": "attended-turkey",
   "metadata": {
    "papermill": {
     "duration": 0.019262,
     "end_time": "2021-05-15T20:04:19.647572",
     "exception": false,
     "start_time": "2021-05-15T20:04:19.628310",
     "status": "completed"
    },
    "tags": []
   },
   "source": [
    "# **Importing Library**"
   ]
  },
  {
   "cell_type": "code",
   "execution_count": 1,
   "id": "outside-action",
   "metadata": {
    "_cell_guid": "b1076dfc-b9ad-4769-8c92-a6c4dae69d19",
    "_uuid": "8f2839f25d086af736a60e9eeb907d3b93b6e0e5",
    "execution": {
     "iopub.execute_input": "2021-05-15T20:04:19.701280Z",
     "iopub.status.busy": "2021-05-15T20:04:19.700407Z",
     "iopub.status.idle": "2021-05-15T20:04:22.843047Z",
     "shell.execute_reply": "2021-05-15T20:04:22.843608Z"
    },
    "papermill": {
     "duration": 3.17707,
     "end_time": "2021-05-15T20:04:22.843902",
     "exception": false,
     "start_time": "2021-05-15T20:04:19.666832",
     "status": "completed"
    },
    "tags": []
   },
   "outputs": [
    {
     "name": "stderr",
     "output_type": "stream",
     "text": [
      "[nltk_data] Downloading package vader_lexicon to\n",
      "[nltk_data]     /Users/sridhar/nltk_data...\n",
      "[nltk_data]   Package vader_lexicon is already up-to-date!\n",
      "[nltk_data] Downloading package punkt to /Users/sridhar/nltk_data...\n",
      "[nltk_data]   Package punkt is already up-to-date!\n",
      "[nltk_data] Downloading package stopwords to\n",
      "[nltk_data]     /Users/sridhar/nltk_data...\n",
      "[nltk_data]   Package stopwords is already up-to-date!\n",
      "[nltk_data] Downloading package wordnet to /Users/sridhar/nltk_data...\n",
      "[nltk_data]   Package wordnet is already up-to-date!\n"
     ]
    }
   ],
   "source": [
    "import pandas as pd\n",
    "import string\n",
    "import numpy as np\n",
    "from sklearn.feature_extraction.text import CountVectorizer\n",
    "import matplotlib.pyplot as plt\n",
    "plt.style.use('seaborn')\n",
    "import plotly.express as px\n",
    "import plotly.graph_objects as go\n",
    "import seaborn as sns\n",
    "from wordcloud import WordCloud\n",
    "import nltk\n",
    "import nltk.data\n",
    "from nltk.tokenize import word_tokenize\n",
    "from nltk.stem import WordNetLemmatizer \n",
    "from nltk.corpus import stopwords\n",
    "from nltk.sentiment.vader import SentimentIntensityAnalyzer\n",
    "from nltk import word_tokenize\n",
    "nltk.download('vader_lexicon')\n",
    "nltk.download('punkt')\n",
    "nltk.download('stopwords')\n",
    "nltk.download('wordnet')\n",
    "import warnings\n",
    "warnings.filterwarnings(\"ignore\")"
   ]
  },
  {
   "cell_type": "markdown",
   "id": "thorough-annual",
   "metadata": {
    "papermill": {
     "duration": 0.019499,
     "end_time": "2021-05-15T20:04:22.884643",
     "exception": false,
     "start_time": "2021-05-15T20:04:22.865144",
     "status": "completed"
    },
    "tags": []
   },
   "source": [
    "# **Importing all data**\n",
    "Importing all singers separately"
   ]
  },
  {
   "cell_type": "code",
   "execution_count": 2,
   "id": "d3e1d024",
   "metadata": {},
   "outputs": [],
   "source": [
    "import pymongo\n",
    "client = pymongo.MongoClient(\"mongodb://127.0.0.1:27017/?directConnection=true&serverSelectionTimeoutMS=2000&appName=mongosh+1.1.9\")\n",
    "# Database Name\n",
    "db = client[\"Lyrics\"]\n",
    "# Collection Name\n",
    "df_a = db[\"ArianaGrande\"].find()\n",
    "df_a =  pd.DataFrame(list(df_a))\n",
    "df_a = df_a.drop(['_id'], axis = 1)\n",
    "\n",
    "df_b = db[\"Beyonce\"].find()\n",
    "df_b =  pd.DataFrame(list(df_b))\n",
    "df_b = df_b.drop(['_id'], axis = 1)\n",
    "\n",
    "df_be = db[\"BillieEilish\"].find()\n",
    "df_be =  pd.DataFrame(list(df_be))\n",
    "df_be = df_be.drop(['_id'], axis = 1)\n",
    "\n",
    "df_ed = db[\"EdSheeran\"].find()\n",
    "df_ed =  pd.DataFrame(list(df_ed))\n",
    "df_ed = df_ed.drop(['_id'], axis = 1)\n",
    "\n",
    "df_j = db[\"JustinBieber\"].find()\n",
    "df_j =  pd.DataFrame(list(df_j))\n",
    "df_j = df_j.drop(['_id'], axis = 1)\n",
    "\n",
    "df_k = db[\"KatyPerry\"].find()\n",
    "df_k =  pd.DataFrame(list(df_k))\n",
    "df_k = df_k.drop(['_id'], axis = 1)\n",
    "\n",
    "df_l = db[\"LadyGaga\"].find()\n",
    "df_l =  pd.DataFrame(list(df_l))\n",
    "df_l = df_l.drop(['_id'], axis = 1)\n",
    "\n",
    "df_m5 = db[\"Maroon5\"].find()\n",
    "df_m5 =  pd.DataFrame(list(df_m5))\n",
    "df_m5 = df_m5.drop(['_id'], axis = 1)\n",
    "\n",
    "df_p = db[\"PostMalone\"].find()\n",
    "df_p =  pd.DataFrame(list(df_p))\n",
    "df_p = df_p.drop(['_id'], axis = 1)\n",
    "\n",
    "df_r = db[\"Rihanna\"].find()\n",
    "df_r =  pd.DataFrame(list(df_r))\n",
    "df_r = df_r.drop(['_id'], axis = 1)\n",
    "\n",
    "df_s = db[\"SelenaGomez\"].find()\n",
    "df_s =  pd.DataFrame(list(df_s))\n",
    "df_s = df_s.drop(['_id'], axis = 1)\n",
    "\n",
    "df_all=[df_a,df_b,df_be,df_ed,df_j,df_k,df_l,df_m5,df_p,df_r,df_s]\n"
   ]
  },
  {
   "cell_type": "code",
   "execution_count": 3,
   "id": "f853d711",
   "metadata": {},
   "outputs": [
    {
     "data": {
      "text/plain": [
       "[            Artist                                       Title  \\\n",
       " 0    Ariana Grande                              ​thank u, next   \n",
       " 1    Ariana Grande                                     7 rings   \n",
       " 2    Ariana Grande                             ​God is a woman   \n",
       " 3    Ariana Grande                                Side To Side   \n",
       " 4    Ariana Grande                      ​​no tears left to cry   \n",
       " ..             ...                                         ...   \n",
       " 303  Ariana Grande  God is a Woman (Excuse me i love you LIVE)   \n",
       " 304  Ariana Grande                                      Magic*   \n",
       " 305  Ariana Grande                                  Right here   \n",
       " 306  Ariana Grande                                     Venuss*   \n",
       " 307  Ariana Grande          One last time_Ariana_Grande_(2014)   \n",
       " \n",
       "                Album        Date  \\\n",
       " 0      thank u, next  2018-11-03   \n",
       " 1      thank u, next  2019-01-18   \n",
       " 2          Sweetener  2018-07-13   \n",
       " 3    Dangerous Woman  2016-05-20   \n",
       " 4          Sweetener  2018-04-20   \n",
       " ..               ...         ...   \n",
       " 303              NaN  2020-12-21   \n",
       " 304              NaN        None   \n",
       " 305              NaN        None   \n",
       " 306              NaN        None   \n",
       " 307              NaN  2014-02-10   \n",
       " \n",
       "                                                  Lyric  Year  \n",
       " 0    thought i'd end up with sean but he wasn't a m...  2018  \n",
       " 1    yeah breakfast at tiffany's and bottles of bub...  2019  \n",
       " 2    you you love it how i move you you love it how...  2018  \n",
       " 3    ariana grande  nicki minaj i've been here all ...  2016  \n",
       " 4    right now i'm in a state of mind i wanna be in...  2018  \n",
       " ..                                                 ...   ...  \n",
       " 303  you you love it how i move you love it how i t...  2020  \n",
       " 304                come back soon when there is lyrics  None  \n",
       " 305  lalalalalalala oooooh  lets do what we want th...  None  \n",
       " 306             no lyrics for this song come back soon  None  \n",
       " 307  i was a liar i gave into the fire i know i sho...  2014  \n",
       " \n",
       " [308 rows x 6 columns],\n",
       "            Artist                             Title             Album  Year  \\\n",
       " 0      0  Beyoncé                     Drunk in Love           BEYONCÉ  2013   \n",
       " 1      1  Beyoncé                         Formation          Lemonade  2016   \n",
       " 2      2  Beyoncé                         Partition           BEYONCÉ  2013   \n",
       " 3      3  Beyoncé                              Mine           BEYONCÉ  2013   \n",
       " 4      4  Beyoncé                           Hold Up          Lemonade  2016   \n",
       " ..   ...      ...                               ...               ...   ...   \n",
       " 401  401  Beyoncé  Smash Into You (Lost Daze Remix)         Heat - EP   nan   \n",
       " 402  402  Beyoncé              Black Parade (Remix)               NaN   nan   \n",
       " 403  403  Beyoncé                         This Love               NaN   nan   \n",
       " 404  404  Beyoncé       At Last (Karmatronic Remix)         Heat - EP   nan   \n",
       " 405  405  Beyoncé       Sweet Dreams (OK DAC Remix)  Above and Beyond  2009   \n",
       " \n",
       "            Date                                              Lyric  \n",
       " 0    2013-12-17  beyoncé i've been drinkin' i've been drinkin' ...  \n",
       " 1    2016-02-06  messy mya what happened at the new wil'ins bit...  \n",
       " 2    2013-12-13  part  yoncé   let me hear you say hey ms carte...  \n",
       " 3    2013-12-13  beyoncé i've been watching for the signs took ...  \n",
       " 4    2016-04-23  hold up they don't love you like i love you sl...  \n",
       " ..          ...                                                ...  \n",
       " 401         nan  head down as i watch my feet take turns hittin...  \n",
       " 402         nan  being black maybe that the reason why they alw...  \n",
       " 403         nan  lyrics for this song have yet to be released p...  \n",
       " 404         nan  at last my love has come along my lonely days ...  \n",
       " 405  2009-01-06  every night i rush to my bed with hopes that m...  \n",
       " \n",
       " [406 rows x 7 columns],\n",
       "                  Artist                                              Title  \\\n",
       " 0      0  Billie Eilish                             ​when the party’s over   \n",
       " 1      1  Billie Eilish                               ​everything i wanted   \n",
       " 2      2  Billie Eilish                                           ​bad guy   \n",
       " 3      3  Billie Eilish                            ​idontwannabeyouanymore   \n",
       " 4      4  Billie Eilish                                     ​bury a friend   \n",
       " ..   ...            ...                                                ...   \n",
       " 140  140  Billie Eilish     ​come out and play (Live at Third Man Records)   \n",
       " 141  141  Billie Eilish  ​idontwannabeyouanymore (Live at Third Man Rec...   \n",
       " 142  142  Billie Eilish             ​bellyache (Live at Third Man Records)   \n",
       " 143  143  Billie Eilish                COPYCAT (Live at Third Man Records)   \n",
       " 144  144  Billie Eilish         ​bury a friend (Live at Third Man Records)   \n",
       " \n",
       "                                                  Album  Year        Date  \\\n",
       " 0    WHEN WE ALL FALL ASLEEP, WHERE DO WE GO? (Japa...  2018  2018-10-17   \n",
       " 1    WHEN WE ALL FALL ASLEEP, WHERE DO WE GO? (Targ...  2019  2019-11-13   \n",
       " 2    WHEN WE ALL FALL ASLEEP, WHERE DO WE GO? (Japa...  2019  2019-03-29   \n",
       " 3                                     dont smile at me  2017  2017-07-21   \n",
       " 4    WHEN WE ALL FALL ASLEEP, WHERE DO WE GO? (Japa...  2019  2019-01-30   \n",
       " ..                                                 ...   ...         ...   \n",
       " 140                          Live at Third Man Records  2019  2019-12-06   \n",
       " 141                          Live at Third Man Records  2019  2019-12-06   \n",
       " 142                          Live at Third Man Records  2019  2019-12-06   \n",
       " 143                          Live at Third Man Records  2019  2019-12-06   \n",
       " 144                          Live at Third Man Records  2019  2019-12-06   \n",
       " \n",
       "                                                  Lyric  \n",
       " 0    don't you know i'm no good for you i've learne...  \n",
       " 1    i had a dream i got everything i wanted not wh...  \n",
       " 2    white shirt now red my bloody nose sleepin' yo...  \n",
       " 3    don't be that way fall apart twice a day i jus...  \n",
       " 4    mehki raine billie   billie eilish what do you...  \n",
       " ..                                                 ...  \n",
       " 140  that's right alright oh we back okay you ready...  \n",
       " 141  thank you teeheehee ah this is aan oldie mm   ...  \n",
       " 142  uhuhuh dadadadada   sittin' all alone mouth fu...  \n",
       " 143  ooh mm   don't be cautious don't be kind you c...  \n",
       " 144  oh boy we 'bout to bomb the next one oh oh alr...  \n",
       " \n",
       " [145 rows x 7 columns],\n",
       "               Artist                                        Title  \\\n",
       " 0      0  Ed Sheeran                                 Shape of You   \n",
       " 1      1  Ed Sheeran                                      Perfect   \n",
       " 2      2  Ed Sheeran                           Castle on the Hill   \n",
       " 3      3  Ed Sheeran                                      Happier   \n",
       " 4      4  Ed Sheeran                          Supermarket Flowers   \n",
       " ..   ...         ...                                          ...   \n",
       " 291  291  Ed Sheeran                                       Broken   \n",
       " 292  292  Ed Sheeran                                        Sleep   \n",
       " 293  293  Ed Sheeran                             This Year’s Love   \n",
       " 294  294  Ed Sheeran  Shape of you -In love with the shape of you   \n",
       " 295  295  Ed Sheeran                                 Give Me That   \n",
       " \n",
       "                             Album  Year        Date  \\\n",
       " 0                      ÷ (Divide)  2017  2017-01-06   \n",
       " 1                      ÷ (Divide)  2017  2017-03-03   \n",
       " 2                      ÷ (Divide)  2017  2017-01-06   \n",
       " 3                      ÷ (Divide)  2017  2017-03-03   \n",
       " 4                      ÷ (Divide)  2017  2017-03-03   \n",
       " ..                            ...   ...         ...   \n",
       " 291                  Spinning Man   nan         nan   \n",
       " 292                  Spinning Man   nan         nan   \n",
       " 293  BBC Radio 2 - The Piano Room   nan         nan   \n",
       " 294                           NaN   nan         nan   \n",
       " 295                           NaN   nan         nan   \n",
       " \n",
       "                                                  Lyric  \n",
       " 0    the club isn't the best place to find a lover ...  \n",
       " 1    i found a love for me oh darling just dive rig...  \n",
       " 2    when i was six years old i broke my leg i was ...  \n",
       " 3    walking down 9th and park i saw you in another...  \n",
       " 4    i took the supermarket flowers from the window...  \n",
       " ..                                                 ...  \n",
       " 291  lyrics for this song have yet to be released p...  \n",
       " 292  lyrics for this song have yet to be released p...  \n",
       " 293  this year's love had better last heaven knows ...  \n",
       " 294  the club isn't the best place to find a lover ...  \n",
       " 295  on a late night we were outside of a club near...  \n",
       " \n",
       " [296 rows x 7 columns],\n",
       "                  Artist                                              Title  \\\n",
       " 0      0  Justin Bieber                                      Love Yourself   \n",
       " 1      1  Justin Bieber                                              Sorry   \n",
       " 2      2  Justin Bieber                                              Yummy   \n",
       " 3      3  Justin Bieber                             As Long as You Love Me   \n",
       " 4      4  Justin Bieber                                               Baby   \n",
       " ..   ...            ...                                                ...   \n",
       " 343  343  Justin Bieber  Love Yourself (Acoustic with Hailee Steinfeld)...   \n",
       " 344  344  Justin Bieber                              Sorry - Piano Version   \n",
       " 345  345  Justin Bieber                   Yellow Raincoat - Single Version   \n",
       " 346  346  Justin Bieber       Home To Mama (Acoustic) - Live [Bonus Track]   \n",
       " 347  347  Justin Bieber                                       Don’t Go Far   \n",
       " \n",
       "                 Album  Year        Date  \\\n",
       " 0    Purpose (Deluxe)  2015  2015-11-13   \n",
       " 1    Purpose (Deluxe)  2015  2015-10-23   \n",
       " 2             Changes  2020  2020-01-03   \n",
       " 3             Believe  2012  2012-06-11   \n",
       " 4        My World 2.0  2010  2010-01-18   \n",
       " ..                ...   ...         ...   \n",
       " 343               NaN  2017  2017-10-09   \n",
       " 344               NaN  2017  2017-10-09   \n",
       " 345               NaN  2020  2020-09-11   \n",
       " 346               NaN  2017  2017-10-09   \n",
       " 347               NaN   nan         nan   \n",
       " \n",
       "                                                  Lyric  \n",
       " 0    produced by benny blanco   for all the times t...  \n",
       " 1    written by julia michaels justin tranter and j...  \n",
       " 2    yeah you got that yummyyum that yummyyum that ...  \n",
       " 3    justin bieber as long as you love me love me l...  \n",
       " 4    produced by thedream and tricky stewart   just...  \n",
       " ..                                                 ...  \n",
       " 343  for all the times that you rained on my parade...  \n",
       " 344  you gotta go and get angry at all of my honest...  \n",
       " 345  cause i'll put on my raincoat my yellow rainco...  \n",
       " 346  justin bieber i don't work harder when it's ea...  \n",
       " 347  ripped denim baby how'd you fit 'em baby dippe...  \n",
       " \n",
       " [348 rows x 7 columns],\n",
       "               Artist                                   Title  \\\n",
       " 0      0  Katy Perry                             Swish Swish   \n",
       " 1      1  Katy Perry                   Chained to the Rhythm   \n",
       " 2      2  Katy Perry                              Dark Horse   \n",
       " 3      3  Katy Perry                             Bon Appétit   \n",
       " 4      4  Katy Perry                                    Roar   \n",
       " ..   ...         ...                                     ...   \n",
       " 320  320  Katy Perry                          Super-Duper Me   \n",
       " 321  321  Katy Perry                         Lass Frooby Noo   \n",
       " 322  322  Katy Perry           E.T. (Breathe Electric Remix)   \n",
       " 323  323  Katy Perry  Teenage Dream (Breathe Electric Remix)   \n",
       " 324  324  Katy Perry              Dark horse -there no horse   \n",
       " \n",
       "                   Album  Year        Date  \\\n",
       " 0               Witness  2017  2017-05-19   \n",
       " 1               Witness  2017  2017-02-10   \n",
       " 2                 PRISM  2013  2013-10-18   \n",
       " 3               Witness  2017  2017-04-28   \n",
       " 4                 PRISM  2013  2013-08-10   \n",
       " ..                  ...   ...         ...   \n",
       " 320    Unreleased Songs   nan         nan   \n",
       " 321                 NaN   nan         nan   \n",
       " 322  Justin Bieber - EP  2011  2011-04-10   \n",
       " 323          Remix - EP  2011  2011-01-01   \n",
       " 324                 NaN   nan         nan   \n",
       " \n",
       "                                                  Lyric  \n",
       " 0    refrain they know what is what but they don't ...  \n",
       " 1    katy perry are we crazy living our lives throu...  \n",
       " 2    juicy j yeah ya'll know what it is katy perry ...  \n",
       " 3    quavo ayy yeah katy perry migos ayy   katy per...  \n",
       " 4    i used to bite my tongue and hold my breath sc...  \n",
       " ..                                                 ...  \n",
       " 320  lyrics for this song have yet to be released p...  \n",
       " 321  zerpa stamby imba bweb zerpa powey imba heb ni...  \n",
       " 322  lyrics for this song have yet to be released p...  \n",
       " 323  lyrics for this song have yet to be released p...  \n",
       " 324  i knew you were you were gonna come to me and ...  \n",
       " \n",
       " [325 rows x 7 columns],\n",
       "              Artist                                              Title  \\\n",
       " 0      0  Lady Gaga                                     Do What U Want   \n",
       " 1      1  Lady Gaga                        Always Remember Us This Way   \n",
       " 2      2  Lady Gaga                                        Bad Romance   \n",
       " 3      3  Lady Gaga                                       Sexxx Dreams   \n",
       " 4      4  Lady Gaga           I’ll Never Love Again (Extended Version)   \n",
       " ..   ...        ...                                                ...   \n",
       " 397  397  Lady Gaga                Just Dance (Breathe Electric Remix)   \n",
       " 398  398  Lady Gaga                         Are you friendly with her?   \n",
       " 399  399  Lady Gaga                     Telephone (DJ Dan Vocal Remix)   \n",
       " 400  400  Lady Gaga      Always remember us this way Greek translation   \n",
       " 401  401  Lady Gaga  Surprise, instead of one new song you’re getti...   \n",
       " \n",
       "                                                  Album  Year        Date  \\\n",
       " 0                                               ARTPOP  2013  2013-10-21   \n",
       " 1    A Star is Born (Original Motion Picture Soundt...  2018  2018-10-05   \n",
       " 2                                     The Fame Monster  2009  2009-10-23   \n",
       " 3                                               ARTPOP  2013  2013-11-06   \n",
       " 4    A Star is Born (Original Motion Picture Soundt...  2018  2018-10-05   \n",
       " ..                                                 ...   ...         ...   \n",
       " 397                                         Remix - EP  2010  2010-12-24   \n",
       " 398                                                NaN   nan         nan   \n",
       " 399                            Telephone (The Remixes)   nan         nan   \n",
       " 400                                                NaN  2021  2021-01-24   \n",
       " 401                                                NaN  2016  2016-10-05   \n",
       " \n",
       "                                                  Lyric  \n",
       " 0    lady gaga  r kelly yeah oh turn the mic up yea...  \n",
       " 1    that arizona sky burnin' in your eyes you look...  \n",
       " 2    ohohohohoh ohohohoh ohohoh caught in a bad rom...  \n",
       " 3    last night our lovers' quarrel i was thinking ...  \n",
       " 4    wish i could i could've said goodbye i would'v...  \n",
       " ..                                                 ...  \n",
       " 397  lyrics for this song have yet to be released p...  \n",
       " 398                                           no omgno  \n",
       " 399  lady gaga hello hello baby you called i can't ...  \n",
       " 400  lady gaga lyrics always remember us this way μ...  \n",
       " 401  surprise instead of one new song tonight at th...  \n",
       " \n",
       " [402 rows x 7 columns],\n",
       "             Artist                            Title  \\\n",
       " 0      0  Maroon 5           Girls Like You (Remix)   \n",
       " 1      1  Maroon 5                   What Lovers Do   \n",
       " 2      2  Maroon 5                         Memories   \n",
       " 3      3  Maroon 5                   Girls Like You   \n",
       " 4      4  Maroon 5                 Don’t Wanna Know   \n",
       " ..   ...       ...                              ...   \n",
       " 192  192  Maroon 5    Animals (Sammy Bananas Remix)   \n",
       " 193  193  Maroon 5            Cold (Sak Noel Remix)   \n",
       " 194  194  Maroon 5                         Hands Up   \n",
       " 195  195  Maroon 5               Cold (VAR!N Remix)   \n",
       " 196  196  Maroon 5  Pure Imagination (2009 Version)   \n",
       " \n",
       "                                          Album  Year        Date  \\\n",
       " 0                               Red Pill Blues  2018  2018-05-30   \n",
       " 1                               Red Pill Blues  2017  2017-08-30   \n",
       " 2                                         M57*  2019  2019-09-20   \n",
       " 3                               Red Pill Blues  2017  2017-11-03   \n",
       " 4                               Red Pill Blues  2016  2016-10-12   \n",
       " ..                                         ...   ...         ...   \n",
       " 192                                        NaN  2014  2014-11-17   \n",
       " 193      NOW That’s What I Call A Workout 2018  2017  2017-12-15   \n",
       " 194                                        NaN   nan         nan   \n",
       " 195                                        NaN  2018  2018-11-03   \n",
       " 196  Change Is Now: Renewing America’s Promise   nan         nan   \n",
       " \n",
       "                                                  Lyric  \n",
       " 0    adam levine spent 4 hours i need more hours wi...  \n",
       " 1    adam levine say say say hey hey now baby oh ma...  \n",
       " 2    here's to the ones that we got cheers to the w...  \n",
       " 3    spent 4 hours i need more hours with you you s...  \n",
       " 4    oh hey oh oh hey oh oh oh hey uh oh uh oh   ad...  \n",
       " ..                                                 ...  \n",
       " 192  baby i'm preying on you tonight hunt you down ...  \n",
       " 193  adam levine cold enough to chill my bones it f...  \n",
       " 194  i'm the one you're gonna take from the followi...  \n",
       " 195  cold enough to chill my bones it feels like i ...  \n",
       " 196  barack obama a man touched down on the moon a ...  \n",
       " \n",
       " [197 rows x 7 columns],\n",
       "                Artist                 Title                 Album  Year  \\\n",
       " 0      0  Post Malone            ​​rockstar  beerbongs & bentleys  2017   \n",
       " 1      1  Post Malone         White Iverson       Stoney (Deluxe)  2015   \n",
       " 2      2  Post Malone       Congratulations       Stoney (Deluxe)  2016   \n",
       " 3      3  Post Malone                Psycho  beerbongs & bentleys  2018   \n",
       " 4      4  Post Malone          I Fall Apart       Stoney (Deluxe)  2016   \n",
       " ..   ...          ...                   ...                   ...   ...   \n",
       " 143  143  Post Malone               Lithium                   NaN  2020   \n",
       " 144  144  Post Malone  Something in the Way                   NaN  2020   \n",
       " 145  145  Post Malone              In Bloom                   NaN  2020   \n",
       " 146  146  Post Malone  Territorial Pissings                   NaN  2020   \n",
       " 147  147  Post Malone                School                   NaN  2020   \n",
       " \n",
       "            Date                                              Lyric  \n",
       " 0    2017-09-15  post malone hahahahaha tank god ayy ayy   post...  \n",
       " 1    2015-02-04  double ot i'm a new three   saucin' saucin' i'...  \n",
       " 2    2016-11-04  post malone mmmmm yeah yeah mmmmm yeah hey   p...  \n",
       " 3    2018-02-23  post malone damn my ap goin' psycho lil' mama ...  \n",
       " 4    2016-12-09  ooh i fall apart ooh yeah mmm yeah   she told ...  \n",
       " ..          ...                                                ...  \n",
       " 143  2020-04-24  i'm so happy 'cause today i found my friends t...  \n",
       " 144  2020-04-24  verse underneath the  tarp has sprung a leak a...  \n",
       " 145  2020-04-24  sell the kids for food weather changes moods s...  \n",
       " 146  2020-04-24  when i was an alien cultures weren't opinions ...  \n",
       " 147  2020-04-24  verse won't you believe it it's just my luck w...  \n",
       " \n",
       " [148 rows x 7 columns],\n",
       "            Artist                                              Title  \\\n",
       " 0      0  Rihanna                                               Work   \n",
       " 1      1  Rihanna                                  Love on the Brain   \n",
       " 2      2  Rihanna                                          Needed Me   \n",
       " 3      3  Rihanna                                               Stay   \n",
       " 4      4  Rihanna                                     Kiss It Better   \n",
       " ..   ...      ...                                                ...   \n",
       " 400  400  Rihanna  Russian Roulette (Chew Fu “Aciiiid” Fix) [Dub ...   \n",
       " 401  401  Rihanna  Russian Roulette (Chew Fu “Black Russian” Fix)...   \n",
       " 402  402  Rihanna                      S&M (Joe Bermudez Chico Club)   \n",
       " 403  403  Rihanna            Needed Me (StarFox Remix) [Bonus Track]   \n",
       " 404  404  Rihanna                     Umbrella (Travis Barker Remix)   \n",
       " \n",
       "                               Album  Year        Date  \\\n",
       " 0                              ANTI  2016  2016-01-27   \n",
       " 1                              ANTI  2016  2016-01-28   \n",
       " 2                              ANTI  2016  2016-01-28   \n",
       " 3                      Unapologetic  2013  2013-01-07   \n",
       " 4                              ANTI  2016  2016-01-28   \n",
       " ..                              ...   ...         ...   \n",
       " 400  Russian Roulette (The Remixes)  2009  2009-12-14   \n",
       " 401  Russian Roulette (The Remixes)  2009  2009-12-14   \n",
       " 402                   S&M (Remixes)  2011  2011-02-08   \n",
       " 403                 Neon Vibes - EP  2020  2020-06-19   \n",
       " 404                             NaN  2008  2008-01-01   \n",
       " \n",
       "                                                  Lyric  \n",
       " 0    rihanna work work work work work work he said ...  \n",
       " 1    and you got me like oh what you want from me w...  \n",
       " 2    yg mustard on the beat ho   i was good on my o...  \n",
       " 3    rihanna all along it was a fever a cold sweat ...  \n",
       " 4    kiss it kiss it better baby kiss it kiss it be...  \n",
       " ..                                                 ...  \n",
       " 400  and you can see my heart beating you can see i...  \n",
       " 401  take a breath take it deep calm yourself he sa...  \n",
       " 402  rihanna feels so good being bad ohohohohoh the...  \n",
       " 403  fox   i was good on my own that's the way it w...  \n",
       " 404  jayz uhhuh uhhuh yeah rihanna uhhuh uhhuh good...  \n",
       " \n",
       " [405 rows x 7 columns],\n",
       "                 Artist                                         Title  \\\n",
       " 0      0  Selena Gomez                           Lose You To Love Me   \n",
       " 1      1  Selena Gomez                                   Back to You   \n",
       " 2      2  Selena Gomez                                        Fetish   \n",
       " 3      3  Selena Gomez                                      Bad Liar   \n",
       " 4      4  Selena Gomez                               Look At Her Now   \n",
       " ..   ...           ...                                           ...   \n",
       " 170  170  Selena Gomez          Come & Get It (Dave Audé Club Remix)   \n",
       " 171  171  Selena Gomez  Come & Get It (DJ M3 Mixshow Extended Remix)   \n",
       " 172  172  Selena Gomez         Come & Get It (Fred Falke Club Remix)   \n",
       " 173  173  Selena Gomez           Hands to Myself (Betablock3r Remix)   \n",
       " 174  174  Selena Gomez                Hands to Myself (Fareoh Remix)   \n",
       " \n",
       "                          Album  Year        Date  \\\n",
       " 0      Rare (Target Exclusive)  2019  2019-10-23   \n",
       " 1      Rare (Target Exclusive)  2018  2018-05-10   \n",
       " 2      Rare (Target Exclusive)  2017  2017-07-13   \n",
       " 3      Rare (Target Exclusive)  2017  2017-05-18   \n",
       " 4      Rare (Target Exclusive)  2019  2019-10-24   \n",
       " ..                         ...   ...         ...   \n",
       " 170    Come & Get It (Remixes)  2013  2013-05-28   \n",
       " 171    Come & Get It (Remixes)  2013  2013-05-28   \n",
       " 172    Come & Get It (Remixes)  2013  2013-05-28   \n",
       " 173  Hands to Myself (Remixes)  2016  2016-03-04   \n",
       " 174  Hands to Myself (Remixes)  2016  2016-03-04   \n",
       " \n",
       "                                                  Lyric  \n",
       " 0    you promised the world and i fell for it i put...  \n",
       " 1    took you like a shot thought that i could chas...  \n",
       " 2    selena gomez take it or leave it baby take it ...  \n",
       " 3    i was walking down the street the other day tr...  \n",
       " 4    yeah   they fell in love one summer a little t...  \n",
       " ..                                                 ...  \n",
       " 170  when you're ready come and get it when you're ...  \n",
       " 171  when you're ready come and get it nananana nan...  \n",
       " 172  yeah yeah yeah yeah yeah   you ain't gotta wor...  \n",
       " 173  can't keep my hands to myself can't keep my ha...  \n",
       " 174  can't keep my hands to myself no matter how ha...  \n",
       " \n",
       " [175 rows x 7 columns]]"
      ]
     },
     "execution_count": 3,
     "metadata": {},
     "output_type": "execute_result"
    }
   ],
   "source": [
    "df_all"
   ]
  },
  {
   "cell_type": "code",
   "execution_count": 4,
   "id": "regional-adobe",
   "metadata": {
    "execution": {
     "iopub.execute_input": "2021-05-15T20:04:22.932083Z",
     "iopub.status.busy": "2021-05-15T20:04:22.931392Z",
     "iopub.status.idle": "2021-05-15T20:04:23.213466Z",
     "shell.execute_reply": "2021-05-15T20:04:23.212695Z"
    },
    "papermill": {
     "duration": 0.308941,
     "end_time": "2021-05-15T20:04:23.213629",
     "exception": false,
     "start_time": "2021-05-15T20:04:22.904688",
     "status": "completed"
    },
    "tags": []
   },
   "outputs": [
    {
     "data": {
      "text/plain": [
       "\"df_a=pd.read_csv('/Users/sridhar/Desktop/Semester 2/Projects/Lyrics Sentiment Analysis/Source Code/Dataset/csv/ArianaGrande.csv')\\ndf_b=pd.read_csv('/Users/sridhar/Desktop/Semester 2/Projects/Lyrics Sentiment Analysis/Source Code/Dataset/csv/Beyonce.csv')\\ndf_be=pd.read_csv('/Users/sridhar/Desktop/Semester 2/Projects/Lyrics Sentiment Analysis/Source Code/Dataset/csv/BillieEilish.csv')\\ndf_ed=pd.read_csv('/Users/sridhar/Desktop/Semester 2/Projects/Lyrics Sentiment Analysis/Source Code/Dataset/csv/EdSheeran.csv')\\ndf_j=pd.read_csv('/Users/sridhar/Desktop/Semester 2/Projects/Lyrics Sentiment Analysis/Source Code/Dataset/csv/JustinBieber.csv')\\ndf_k=pd.read_csv('/Users/sridhar/Desktop/Semester 2/Projects/Lyrics Sentiment Analysis/Source Code/Dataset/csv/KatyPerry.csv')\\ndf_l=pd.read_csv('/Users/sridhar/Desktop/Semester 2/Projects/Lyrics Sentiment Analysis/Source Code/Dataset/csv/LadyGaga.csv')\\ndf_m5=pd.read_csv('/Users/sridhar/Desktop/Semester 2/Projects/Lyrics Sentiment Analysis/Source Code/Dataset/csv/Maroon5.csv')\\ndf_p=pd.read_csv('/Users/sridhar/Desktop/Semester 2/Projects/Lyrics Sentiment Analysis/Source Code/Dataset/csv/PostMalone.csv')\\ndf_r=pd.read_csv('/Users/sridhar/Desktop/Semester 2/Projects/Lyrics Sentiment Analysis/Source Code/Dataset/csv/Rihanna.csv')\\ndf_s=pd.read_csv('/Users/sridhar/Desktop/Semester 2/Projects/Lyrics Sentiment Analysis/Source Code/Dataset/csv/SelenaGomez.csv')\\ndf_all=[df_a,df_b,df_be,df_ed,df_j,df_k,df_l,df_m5,df_p,df_r,df_s]\""
      ]
     },
     "execution_count": 4,
     "metadata": {},
     "output_type": "execute_result"
    }
   ],
   "source": [
    "'''df_a=pd.read_csv('/Users/sridhar/Desktop/Semester 2/Projects/Lyrics Sentiment Analysis/Source Code/Dataset/csv/ArianaGrande.csv')\n",
    "df_b=pd.read_csv('/Users/sridhar/Desktop/Semester 2/Projects/Lyrics Sentiment Analysis/Source Code/Dataset/csv/Beyonce.csv')\n",
    "df_be=pd.read_csv('/Users/sridhar/Desktop/Semester 2/Projects/Lyrics Sentiment Analysis/Source Code/Dataset/csv/BillieEilish.csv')\n",
    "df_ed=pd.read_csv('/Users/sridhar/Desktop/Semester 2/Projects/Lyrics Sentiment Analysis/Source Code/Dataset/csv/EdSheeran.csv')\n",
    "df_j=pd.read_csv('/Users/sridhar/Desktop/Semester 2/Projects/Lyrics Sentiment Analysis/Source Code/Dataset/csv/JustinBieber.csv')\n",
    "df_k=pd.read_csv('/Users/sridhar/Desktop/Semester 2/Projects/Lyrics Sentiment Analysis/Source Code/Dataset/csv/KatyPerry.csv')\n",
    "df_l=pd.read_csv('/Users/sridhar/Desktop/Semester 2/Projects/Lyrics Sentiment Analysis/Source Code/Dataset/csv/LadyGaga.csv')\n",
    "df_m5=pd.read_csv('/Users/sridhar/Desktop/Semester 2/Projects/Lyrics Sentiment Analysis/Source Code/Dataset/csv/Maroon5.csv')\n",
    "df_p=pd.read_csv('/Users/sridhar/Desktop/Semester 2/Projects/Lyrics Sentiment Analysis/Source Code/Dataset/csv/PostMalone.csv')\n",
    "df_r=pd.read_csv('/Users/sridhar/Desktop/Semester 2/Projects/Lyrics Sentiment Analysis/Source Code/Dataset/csv/Rihanna.csv')\n",
    "df_s=pd.read_csv('/Users/sridhar/Desktop/Semester 2/Projects/Lyrics Sentiment Analysis/Source Code/Dataset/csv/SelenaGomez.csv')\n",
    "df_all=[df_a,df_b,df_be,df_ed,df_j,df_k,df_l,df_m5,df_p,df_r,df_s]'''"
   ]
  },
  {
   "cell_type": "markdown",
   "id": "vocal-updating",
   "metadata": {
    "papermill": {
     "duration": 0.01973,
     "end_time": "2021-05-15T20:04:23.254324",
     "exception": false,
     "start_time": "2021-05-15T20:04:23.234594",
     "status": "completed"
    },
    "tags": []
   },
   "source": [
    "# **Cleaning**\n",
    "* Removing the nan values,unreleased albums and songs sung in any other language than english. \n",
    "* Lyrics to words -> To convert all the Lyrics to word \n",
    "* To word -> Converts all the words and removes all the repetative words \n",
    "*  Count word -> This function can count all the unique and as well non unique words\n",
    "*  Word stats -> To give the statistics of words.\n"
   ]
  },
  {
   "cell_type": "code",
   "execution_count": 5,
   "id": "signed-insert",
   "metadata": {
    "execution": {
     "iopub.execute_input": "2021-05-15T20:04:23.301573Z",
     "iopub.status.busy": "2021-05-15T20:04:23.300883Z",
     "iopub.status.idle": "2021-05-15T20:04:23.302750Z",
     "shell.execute_reply": "2021-05-15T20:04:23.303246Z"
    },
    "papermill": {
     "duration": 0.028902,
     "end_time": "2021-05-15T20:04:23.303411",
     "exception": false,
     "start_time": "2021-05-15T20:04:23.274509",
     "status": "completed"
    },
    "tags": []
   },
   "outputs": [],
   "source": [
    "def lyrics_to_words(document):\n",
    "    \"\"\"\n",
    "    This function splits the text of lyrics to  single words, removing stopwords and doing the lemmatization to each word\n",
    "\n",
    "    parameters:\n",
    "    document: text to split to single words\n",
    "    \"\"\"\n",
    "    stop_words = set(stopwords.words('english'))\n",
    "    exclude = set(string.punctuation)\n",
    "    lemma = WordNetLemmatizer()\n",
    "    stopwordremoval = \" \".join([i for i in document.lower().split() if i not in stop_words])\n",
    "    punctuationremoval = ''.join(ch for ch in stopwordremoval if ch not in exclude)\n",
    "    normalized = \" \".join(lemma.lemmatize(word) for word in punctuationremoval.split())\n",
    "    return normalized"
   ]
  },
  {
   "cell_type": "code",
   "execution_count": 6,
   "id": "partial-letters",
   "metadata": {
    "execution": {
     "iopub.execute_input": "2021-05-15T20:04:23.350959Z",
     "iopub.status.busy": "2021-05-15T20:04:23.350167Z",
     "iopub.status.idle": "2021-05-15T20:04:23.354126Z",
     "shell.execute_reply": "2021-05-15T20:04:23.353522Z"
    },
    "papermill": {
     "duration": 0.030478,
     "end_time": "2021-05-15T20:04:23.354278",
     "exception": false,
     "start_time": "2021-05-15T20:04:23.323800",
     "status": "completed"
    },
    "tags": []
   },
   "outputs": [],
   "source": [
    "def toword(df):\n",
    "    def unique(list1):\n",
    "       # intilize a null list\n",
    "         unique_list = []\n",
    "       # traverse for all elements\n",
    "         for x in list1:\n",
    "             # check if exists in unique_list or not\n",
    "             if x not in unique_list:\n",
    "                  unique_list.append(x)\n",
    "         return unique_list\n",
    "    \n",
    "    #Stores unique words of each lyrics song into a new column called words\n",
    "    #list used to store the words\n",
    "    words = []\n",
    "    #iterate trought each lyric and split unique words appending the result into the words list\n",
    "    df = df.reset_index(drop=True)\n",
    "    for word in df['Lyric'].tolist():\n",
    "        words.append(unique(lyrics_to_words(word).split()))\n",
    "    #create the new column with the information of words lists\n",
    "    df['words'] = words\n",
    "    return df"
   ]
  },
  {
   "cell_type": "code",
   "execution_count": 7,
   "id": "statutory-practitioner",
   "metadata": {
    "_kg_hide-input": true,
    "execution": {
     "iopub.execute_input": "2021-05-15T20:04:23.409369Z",
     "iopub.status.busy": "2021-05-15T20:04:23.408685Z",
     "iopub.status.idle": "2021-05-15T20:04:23.411156Z",
     "shell.execute_reply": "2021-05-15T20:04:23.410549Z"
    },
    "papermill": {
     "duration": 0.036522,
     "end_time": "2021-05-15T20:04:23.411295",
     "exception": false,
     "start_time": "2021-05-15T20:04:23.374773",
     "status": "completed"
    },
    "tags": []
   },
   "outputs": [],
   "source": [
    "def cleaning(df):\n",
    "    a=[]\n",
    "    i=0\n",
    "    df1=df\n",
    "    title = df['Title']\n",
    "    for t in df['Title']:\n",
    "        r=Re=l=Li=c=m=V=ve=D=rs=0\n",
    "        r=t.find('remix')\n",
    "        Re=t.find('Remix')\n",
    "        l=t.find('live')\n",
    "        Li=t.find('Live')\n",
    "        V=t.find('Version')\n",
    "        ve=t.find('version')\n",
    "        D=t.find('Demo ')\n",
    "        D=t.find('Demo')\n",
    "        rs=t.find('Reprise')\n",
    "        c=t.find('COPY')\n",
    "        m=t.find('Mix')\n",
    "        if r != -1:\n",
    "            a.append(t)\n",
    "        elif Re != -1:\n",
    "            a.append(t)\n",
    "        elif l != -1:\n",
    "            a.append(t)\n",
    "        elif Li != -1:\n",
    "            a.append(t)\n",
    "        elif V != -1:\n",
    "            a.append(t)\n",
    "        elif ve != -1:\n",
    "            a.append(t)\n",
    "        elif D != -1:\n",
    "            a.append(t)\n",
    "        elif rs != -1:\n",
    "            a.append(t)\n",
    "        elif c != -1:\n",
    "            a.append(t)\n",
    "        elif m != -1:\n",
    "            a.append(t)\n",
    "    \n",
    "    for t1 in df['Title']:\n",
    "        for t2 in a:\n",
    "            if t1 == t2:\n",
    "                df1=df1.drop(i)\n",
    "        i=i+1\n",
    "    \n",
    "    df1.dropna(subset = [\"Title\"], inplace=True)\n",
    "    df1.dropna(subset = [\"Lyric\"], inplace=True)\n",
    "    df1.drop_duplicates(subset =\"Title\",keep = False, inplace = True)\n",
    "    df1.drop_duplicates(subset =\"Lyric\",keep = False, inplace = True) \n",
    "    \n",
    "    \n",
    "    return df1"
   ]
  },
  {
   "cell_type": "code",
   "execution_count": 8,
   "id": "meaningful-emperor",
   "metadata": {
    "execution": {
     "iopub.execute_input": "2021-05-15T20:04:23.455059Z",
     "iopub.status.busy": "2021-05-15T20:04:23.454457Z",
     "iopub.status.idle": "2021-05-15T20:04:23.458408Z",
     "shell.execute_reply": "2021-05-15T20:04:23.458860Z"
    },
    "papermill": {
     "duration": 0.027333,
     "end_time": "2021-05-15T20:04:23.459030",
     "exception": false,
     "start_time": "2021-05-15T20:04:23.431697",
     "status": "completed"
    },
    "tags": []
   },
   "outputs": [],
   "source": [
    "def countword(df):    \n",
    "    \n",
    "    c=[]\n",
    "    for word in df['words']:\n",
    "        for w in word:\n",
    "            c.append(w)\n",
    "    return c\n"
   ]
  },
  {
   "cell_type": "code",
   "execution_count": 9,
   "id": "banned-history",
   "metadata": {
    "execution": {
     "iopub.execute_input": "2021-05-15T20:04:23.503602Z",
     "iopub.status.busy": "2021-05-15T20:04:23.502943Z",
     "iopub.status.idle": "2021-05-15T20:04:23.510497Z",
     "shell.execute_reply": "2021-05-15T20:04:23.509778Z"
    },
    "papermill": {
     "duration": 0.030865,
     "end_time": "2021-05-15T20:04:23.510640",
     "exception": false,
     "start_time": "2021-05-15T20:04:23.479775",
     "status": "completed"
    },
    "tags": []
   },
   "outputs": [],
   "source": [
    "def words_stats(df,main_df):\n",
    "    unique_words = []\n",
    "    total_words = []\n",
    "    total_news = []\n",
    "    name = []\n",
    "    \n",
    "    for value in df.columns[1:]:\n",
    "        unique_words.append(np.count_nonzero(df[value]))\n",
    "        total_words.append(sum(df[value]))\n",
    "        name.append(str(value))\n",
    "        total_news.append(main_df['name'][main_df['name']==value].count())\n",
    "        data = pd.DataFrame({'name':name,\n",
    "                          'unique words':unique_words,\n",
    "                          'total words':total_words,\n",
    "                          'total songs':total_news})\n",
    "    data['words per songs'] = round(data['total words'] / data['total songs'],0)\n",
    "    data['words per songs'] = data['words per songs'].astype('int')\n",
    "    return data"
   ]
  },
  {
   "cell_type": "code",
   "execution_count": 10,
   "id": "magnetic-contributor",
   "metadata": {
    "execution": {
     "iopub.execute_input": "2021-05-15T20:04:23.571225Z",
     "iopub.status.busy": "2021-05-15T20:04:23.569717Z",
     "iopub.status.idle": "2021-05-15T20:04:28.309872Z",
     "shell.execute_reply": "2021-05-15T20:04:28.309175Z"
    },
    "papermill": {
     "duration": 4.7786,
     "end_time": "2021-05-15T20:04:28.310012",
     "exception": false,
     "start_time": "2021-05-15T20:04:23.531412",
     "status": "completed"
    },
    "tags": []
   },
   "outputs": [],
   "source": [
    "df_allc=[]\n",
    "for df in df_all:\n",
    "    df_c=cleaning(df)\n",
    "    df_w=toword(df_c)\n",
    "    df_allc.append(df_w)\n",
    "\n",
    "frames=df_allc\n",
    "df_main = pd.concat(frames,ignore_index=True)\n",
    "df_main.dropna(thresh=1)\n",
    "#df_main= df_main.drop(df_main[(df_main.Year < 1000) | (df_main.Year > 2021)].index)\n",
    "#df_main= df_main.drop(['Unnamed: 0'],axis=1)\n",
    "df_main=df_main.reset_index(drop=True)"
   ]
  },
  {
   "cell_type": "code",
   "execution_count": 11,
   "id": "5ae12eac",
   "metadata": {},
   "outputs": [
    {
     "data": {
      "text/html": [
       "<div>\n",
       "<style scoped>\n",
       "    .dataframe tbody tr th:only-of-type {\n",
       "        vertical-align: middle;\n",
       "    }\n",
       "\n",
       "    .dataframe tbody tr th {\n",
       "        vertical-align: top;\n",
       "    }\n",
       "\n",
       "    .dataframe thead th {\n",
       "        text-align: right;\n",
       "    }\n",
       "</style>\n",
       "<table border=\"1\" class=\"dataframe\">\n",
       "  <thead>\n",
       "    <tr style=\"text-align: right;\">\n",
       "      <th></th>\n",
       "      <th>Artist</th>\n",
       "      <th>Title</th>\n",
       "      <th>Album</th>\n",
       "      <th>Date</th>\n",
       "      <th>Lyric</th>\n",
       "      <th>Year</th>\n",
       "      <th>words</th>\n",
       "      <th></th>\n",
       "    </tr>\n",
       "  </thead>\n",
       "  <tbody>\n",
       "    <tr>\n",
       "      <th>0</th>\n",
       "      <td>Ariana Grande</td>\n",
       "      <td>​thank u, next</td>\n",
       "      <td>thank u, next</td>\n",
       "      <td>2018-11-03</td>\n",
       "      <td>thought i'd end up with sean but he wasn't a m...</td>\n",
       "      <td>2018</td>\n",
       "      <td>[thought, id, end, sean, match, wrote, song, r...</td>\n",
       "      <td>NaN</td>\n",
       "    </tr>\n",
       "    <tr>\n",
       "      <th>1</th>\n",
       "      <td>Ariana Grande</td>\n",
       "      <td>7 rings</td>\n",
       "      <td>thank u, next</td>\n",
       "      <td>2019-01-18</td>\n",
       "      <td>yeah breakfast at tiffany's and bottles of bub...</td>\n",
       "      <td>2019</td>\n",
       "      <td>[yeah, breakfast, tiffany, bottle, bubble, gir...</td>\n",
       "      <td>NaN</td>\n",
       "    </tr>\n",
       "    <tr>\n",
       "      <th>2</th>\n",
       "      <td>Ariana Grande</td>\n",
       "      <td>​God is a woman</td>\n",
       "      <td>Sweetener</td>\n",
       "      <td>2018-07-13</td>\n",
       "      <td>you you love it how i move you you love it how...</td>\n",
       "      <td>2018</td>\n",
       "      <td>[love, move, touch, one, said, done, believe, ...</td>\n",
       "      <td>NaN</td>\n",
       "    </tr>\n",
       "    <tr>\n",
       "      <th>3</th>\n",
       "      <td>Ariana Grande</td>\n",
       "      <td>Side To Side</td>\n",
       "      <td>Dangerous Woman</td>\n",
       "      <td>2016-05-20</td>\n",
       "      <td>ariana grande  nicki minaj i've been here all ...</td>\n",
       "      <td>2016</td>\n",
       "      <td>[ariana, grande, nicki, minaj, ive, night, day...</td>\n",
       "      <td>NaN</td>\n",
       "    </tr>\n",
       "    <tr>\n",
       "      <th>4</th>\n",
       "      <td>Ariana Grande</td>\n",
       "      <td>​​no tears left to cry</td>\n",
       "      <td>Sweetener</td>\n",
       "      <td>2018-04-20</td>\n",
       "      <td>right now i'm in a state of mind i wanna be in...</td>\n",
       "      <td>2018</td>\n",
       "      <td>[right, im, state, mind, wanna, like, time, ai...</td>\n",
       "      <td>NaN</td>\n",
       "    </tr>\n",
       "    <tr>\n",
       "      <th>...</th>\n",
       "      <td>...</td>\n",
       "      <td>...</td>\n",
       "      <td>...</td>\n",
       "      <td>...</td>\n",
       "      <td>...</td>\n",
       "      <td>...</td>\n",
       "      <td>...</td>\n",
       "      <td>...</td>\n",
       "    </tr>\n",
       "    <tr>\n",
       "      <th>2000</th>\n",
       "      <td>Selena Gomez</td>\n",
       "      <td>Top Secrets</td>\n",
       "      <td>NaN</td>\n",
       "      <td>2021-01-10</td>\n",
       "      <td>got some top secrets  am text me back  baby yo...</td>\n",
       "      <td>2021</td>\n",
       "      <td>[got, top, secret, text, back, baby, youre]</td>\n",
       "      <td>156</td>\n",
       "    </tr>\n",
       "    <tr>\n",
       "      <th>2001</th>\n",
       "      <td>Selena Gomez</td>\n",
       "      <td>My World</td>\n",
       "      <td>NaN</td>\n",
       "      <td>2021-03-01</td>\n",
       "      <td>my world you tried to change it all but i said...</td>\n",
       "      <td>2021</td>\n",
       "      <td>[world, tried, change, said, hey, let, take, s...</td>\n",
       "      <td>161</td>\n",
       "    </tr>\n",
       "    <tr>\n",
       "      <th>2002</th>\n",
       "      <td>Selena Gomez</td>\n",
       "      <td>’Til I Finally Met the Moon*</td>\n",
       "      <td>NaN</td>\n",
       "      <td>nan</td>\n",
       "      <td>snippet my heart skipped a beat when you smile...</td>\n",
       "      <td>nan</td>\n",
       "      <td>[snippet, heart, skipped, beat, smiled, til, f...</td>\n",
       "      <td>163</td>\n",
       "    </tr>\n",
       "    <tr>\n",
       "      <th>2003</th>\n",
       "      <td>Selena Gomez</td>\n",
       "      <td>Wildest dreams</td>\n",
       "      <td>NaN</td>\n",
       "      <td>2015-08-31</td>\n",
       "      <td>he said let's get out of this town drive out o...</td>\n",
       "      <td>2015</td>\n",
       "      <td>[said, let, get, town, drive, city, away, crow...</td>\n",
       "      <td>166</td>\n",
       "    </tr>\n",
       "    <tr>\n",
       "      <th>2004</th>\n",
       "      <td>Selena Gomez</td>\n",
       "      <td>De una vez psrsian English</td>\n",
       "      <td>NaN</td>\n",
       "      <td>nan</td>\n",
       "      <td>it doesn't hurt like before no دیگه مثل قبل اذ...</td>\n",
       "      <td>nan</td>\n",
       "      <td>[hurt, like, دیگه, مثل, قبل, اذیتم, نمیکنه, نه...</td>\n",
       "      <td>167</td>\n",
       "    </tr>\n",
       "  </tbody>\n",
       "</table>\n",
       "<p>2005 rows × 8 columns</p>\n",
       "</div>"
      ],
      "text/plain": [
       "             Artist                         Title            Album  \\\n",
       "0     Ariana Grande                ​thank u, next    thank u, next   \n",
       "1     Ariana Grande                       7 rings    thank u, next   \n",
       "2     Ariana Grande               ​God is a woman        Sweetener   \n",
       "3     Ariana Grande                  Side To Side  Dangerous Woman   \n",
       "4     Ariana Grande        ​​no tears left to cry        Sweetener   \n",
       "...             ...                           ...              ...   \n",
       "2000   Selena Gomez                   Top Secrets              NaN   \n",
       "2001   Selena Gomez                      My World              NaN   \n",
       "2002   Selena Gomez  ’Til I Finally Met the Moon*              NaN   \n",
       "2003   Selena Gomez                Wildest dreams              NaN   \n",
       "2004   Selena Gomez    De una vez psrsian English              NaN   \n",
       "\n",
       "            Date                                              Lyric  Year  \\\n",
       "0     2018-11-03  thought i'd end up with sean but he wasn't a m...  2018   \n",
       "1     2019-01-18  yeah breakfast at tiffany's and bottles of bub...  2019   \n",
       "2     2018-07-13  you you love it how i move you you love it how...  2018   \n",
       "3     2016-05-20  ariana grande  nicki minaj i've been here all ...  2016   \n",
       "4     2018-04-20  right now i'm in a state of mind i wanna be in...  2018   \n",
       "...          ...                                                ...   ...   \n",
       "2000  2021-01-10  got some top secrets  am text me back  baby yo...  2021   \n",
       "2001  2021-03-01  my world you tried to change it all but i said...  2021   \n",
       "2002         nan  snippet my heart skipped a beat when you smile...   nan   \n",
       "2003  2015-08-31  he said let's get out of this town drive out o...  2015   \n",
       "2004         nan  it doesn't hurt like before no دیگه مثل قبل اذ...   nan   \n",
       "\n",
       "                                                  words       \n",
       "0     [thought, id, end, sean, match, wrote, song, r...  NaN  \n",
       "1     [yeah, breakfast, tiffany, bottle, bubble, gir...  NaN  \n",
       "2     [love, move, touch, one, said, done, believe, ...  NaN  \n",
       "3     [ariana, grande, nicki, minaj, ive, night, day...  NaN  \n",
       "4     [right, im, state, mind, wanna, like, time, ai...  NaN  \n",
       "...                                                 ...  ...  \n",
       "2000        [got, top, secret, text, back, baby, youre]  156  \n",
       "2001  [world, tried, change, said, hey, let, take, s...  161  \n",
       "2002  [snippet, heart, skipped, beat, smiled, til, f...  163  \n",
       "2003  [said, let, get, town, drive, city, away, crow...  166  \n",
       "2004  [hurt, like, دیگه, مثل, قبل, اذیتم, نمیکنه, نه...  167  \n",
       "\n",
       "[2005 rows x 8 columns]"
      ]
     },
     "execution_count": 11,
     "metadata": {},
     "output_type": "execute_result"
    }
   ],
   "source": [
    "df_main"
   ]
  },
  {
   "cell_type": "markdown",
   "id": "generous-mitchell",
   "metadata": {
    "papermill": {
     "duration": 0.020856,
     "end_time": "2021-05-15T20:04:28.351639",
     "exception": false,
     "start_time": "2021-05-15T20:04:28.330783",
     "status": "completed"
    },
    "tags": []
   },
   "source": [
    "##### *After appling all the function we generate a main dataframe.*\n",
    "<br></br>\n",
    "# **Preparing Data for visualization**\n",
    "\n",
    "* The first visualization we'll look at it how many unique word vs total words these artist uses and lexicalrichness of each artist"
   ]
  },
  {
   "cell_type": "code",
   "execution_count": 16,
   "id": "canadian-bermuda",
   "metadata": {
    "execution": {
     "iopub.execute_input": "2021-05-15T20:04:28.404849Z",
     "iopub.status.busy": "2021-05-15T20:04:28.404182Z",
     "iopub.status.idle": "2021-05-15T20:04:28.467991Z",
     "shell.execute_reply": "2021-05-15T20:04:28.467277Z"
    },
    "papermill": {
     "duration": 0.094412,
     "end_time": "2021-05-15T20:04:28.468158",
     "exception": false,
     "start_time": "2021-05-15T20:04:28.373746",
     "status": "completed"
    },
    "tags": []
   },
   "outputs": [],
   "source": [
    "before=[]\n",
    "after=[]\n",
    "length=[]\n",
    "ulength=[]\n",
    "wd=[]\n",
    "\n",
    "for df in df_all:\n",
    "    a,b=df.shape\n",
    "    before.append(a)\n",
    "    \n",
    "for dfc in df_allc:\n",
    "    a,b=dfc.shape\n",
    "    after.append(a)  \n",
    "    c=countword(dfc)\n",
    "    l=len(c)\n",
    "    ul=len(np.unique(c))\n",
    "    wd.append(c)\n",
    "    length.append(l)\n",
    "    ulength.append(ul)"
   ]
  },
  {
   "cell_type": "code",
   "execution_count": 17,
   "id": "muslim-house",
   "metadata": {
    "execution": {
     "iopub.execute_input": "2021-05-15T20:04:28.542541Z",
     "iopub.status.busy": "2021-05-15T20:04:28.541586Z",
     "iopub.status.idle": "2021-05-15T20:04:28.586421Z",
     "shell.execute_reply": "2021-05-15T20:04:28.585804Z"
    },
    "papermill": {
     "duration": 0.090308,
     "end_time": "2021-05-15T20:04:28.586569",
     "exception": false,
     "start_time": "2021-05-15T20:04:28.496261",
     "status": "completed"
    },
    "tags": []
   },
   "outputs": [
    {
     "data": {
      "text/html": [
       "<div>\n",
       "<style scoped>\n",
       "    .dataframe tbody tr th:only-of-type {\n",
       "        vertical-align: middle;\n",
       "    }\n",
       "\n",
       "    .dataframe tbody tr th {\n",
       "        vertical-align: top;\n",
       "    }\n",
       "\n",
       "    .dataframe thead th {\n",
       "        text-align: right;\n",
       "    }\n",
       "</style>\n",
       "<table border=\"1\" class=\"dataframe\">\n",
       "  <thead>\n",
       "    <tr style=\"text-align: right;\">\n",
       "      <th></th>\n",
       "      <th>name</th>\n",
       "      <th>before</th>\n",
       "      <th>after</th>\n",
       "      <th>diff</th>\n",
       "      <th>words</th>\n",
       "      <th>words per songs</th>\n",
       "      <th>unique words</th>\n",
       "      <th>word count</th>\n",
       "      <th>lexicalrichness</th>\n",
       "    </tr>\n",
       "  </thead>\n",
       "  <tbody>\n",
       "    <tr>\n",
       "      <th>0</th>\n",
       "      <td>ArianaGrande</td>\n",
       "      <td>308</td>\n",
       "      <td>202</td>\n",
       "      <td>106</td>\n",
       "      <td>[thought, id, end, sean, match, wrote, song, r...</td>\n",
       "      <td>65</td>\n",
       "      <td>3394</td>\n",
       "      <td>13193</td>\n",
       "      <td>25.725764</td>\n",
       "    </tr>\n",
       "    <tr>\n",
       "      <th>1</th>\n",
       "      <td>Beyonce</td>\n",
       "      <td>406</td>\n",
       "      <td>224</td>\n",
       "      <td>182</td>\n",
       "      <td>[beyoncé, ive, drinkin, get, filthy, liquor, t...</td>\n",
       "      <td>85</td>\n",
       "      <td>4980</td>\n",
       "      <td>19041</td>\n",
       "      <td>26.154089</td>\n",
       "    </tr>\n",
       "    <tr>\n",
       "      <th>2</th>\n",
       "      <td>BillieEilish</td>\n",
       "      <td>145</td>\n",
       "      <td>73</td>\n",
       "      <td>72</td>\n",
       "      <td>[know, im, good, ive, learned, lose, cant, aff...</td>\n",
       "      <td>51</td>\n",
       "      <td>1519</td>\n",
       "      <td>3720</td>\n",
       "      <td>40.833333</td>\n",
       "    </tr>\n",
       "    <tr>\n",
       "      <th>3</th>\n",
       "      <td>EdSheeran</td>\n",
       "      <td>296</td>\n",
       "      <td>202</td>\n",
       "      <td>94</td>\n",
       "      <td>[club, best, place, find, lover, bar, go, frie...</td>\n",
       "      <td>92</td>\n",
       "      <td>4490</td>\n",
       "      <td>18650</td>\n",
       "      <td>24.075067</td>\n",
       "    </tr>\n",
       "    <tr>\n",
       "      <th>4</th>\n",
       "      <td>JustinBieber</td>\n",
       "      <td>348</td>\n",
       "      <td>268</td>\n",
       "      <td>80</td>\n",
       "      <td>[produced, benny, blanco, time, rained, parade...</td>\n",
       "      <td>70</td>\n",
       "      <td>3752</td>\n",
       "      <td>18659</td>\n",
       "      <td>20.108259</td>\n",
       "    </tr>\n",
       "    <tr>\n",
       "      <th>5</th>\n",
       "      <td>KatyPerry</td>\n",
       "      <td>325</td>\n",
       "      <td>191</td>\n",
       "      <td>134</td>\n",
       "      <td>[refrain, know, strut, fuck, katy, perry, tige...</td>\n",
       "      <td>69</td>\n",
       "      <td>3605</td>\n",
       "      <td>13202</td>\n",
       "      <td>27.306469</td>\n",
       "    </tr>\n",
       "    <tr>\n",
       "      <th>6</th>\n",
       "      <td>LadyGaga</td>\n",
       "      <td>402</td>\n",
       "      <td>236</td>\n",
       "      <td>166</td>\n",
       "      <td>[lady, gaga, r, kelly, yeah, oh, turn, mic, eh...</td>\n",
       "      <td>73</td>\n",
       "      <td>4299</td>\n",
       "      <td>17147</td>\n",
       "      <td>25.071441</td>\n",
       "    </tr>\n",
       "    <tr>\n",
       "      <th>7</th>\n",
       "      <td>Maroon5</td>\n",
       "      <td>197</td>\n",
       "      <td>125</td>\n",
       "      <td>72</td>\n",
       "      <td>[adam, levine, say, hey, baby, oh, mama, play,...</td>\n",
       "      <td>62</td>\n",
       "      <td>1841</td>\n",
       "      <td>7724</td>\n",
       "      <td>23.834801</td>\n",
       "    </tr>\n",
       "    <tr>\n",
       "      <th>8</th>\n",
       "      <td>PostMalone</td>\n",
       "      <td>148</td>\n",
       "      <td>128</td>\n",
       "      <td>20</td>\n",
       "      <td>[post, malone, hahahahaha, tank, god, ayy, ive...</td>\n",
       "      <td>85</td>\n",
       "      <td>3091</td>\n",
       "      <td>10823</td>\n",
       "      <td>28.559549</td>\n",
       "    </tr>\n",
       "    <tr>\n",
       "      <th>9</th>\n",
       "      <td>Rihanna</td>\n",
       "      <td>405</td>\n",
       "      <td>248</td>\n",
       "      <td>157</td>\n",
       "      <td>[rihanna, work, said, haffi, see, mi, dirt, pu...</td>\n",
       "      <td>66</td>\n",
       "      <td>2869</td>\n",
       "      <td>16391</td>\n",
       "      <td>17.503508</td>\n",
       "    </tr>\n",
       "    <tr>\n",
       "      <th>10</th>\n",
       "      <td>SelenaGomez</td>\n",
       "      <td>175</td>\n",
       "      <td>108</td>\n",
       "      <td>67</td>\n",
       "      <td>[promised, world, fell, put, first, adored, se...</td>\n",
       "      <td>53</td>\n",
       "      <td>1965</td>\n",
       "      <td>5676</td>\n",
       "      <td>34.619450</td>\n",
       "    </tr>\n",
       "  </tbody>\n",
       "</table>\n",
       "</div>"
      ],
      "text/plain": [
       "            name  before  after  diff  \\\n",
       "0   ArianaGrande     308    202   106   \n",
       "1        Beyonce     406    224   182   \n",
       "2   BillieEilish     145     73    72   \n",
       "3      EdSheeran     296    202    94   \n",
       "4   JustinBieber     348    268    80   \n",
       "5      KatyPerry     325    191   134   \n",
       "6       LadyGaga     402    236   166   \n",
       "7        Maroon5     197    125    72   \n",
       "8     PostMalone     148    128    20   \n",
       "9        Rihanna     405    248   157   \n",
       "10   SelenaGomez     175    108    67   \n",
       "\n",
       "                                                words  words per songs  \\\n",
       "0   [thought, id, end, sean, match, wrote, song, r...               65   \n",
       "1   [beyoncé, ive, drinkin, get, filthy, liquor, t...               85   \n",
       "2   [know, im, good, ive, learned, lose, cant, aff...               51   \n",
       "3   [club, best, place, find, lover, bar, go, frie...               92   \n",
       "4   [produced, benny, blanco, time, rained, parade...               70   \n",
       "5   [refrain, know, strut, fuck, katy, perry, tige...               69   \n",
       "6   [lady, gaga, r, kelly, yeah, oh, turn, mic, eh...               73   \n",
       "7   [adam, levine, say, hey, baby, oh, mama, play,...               62   \n",
       "8   [post, malone, hahahahaha, tank, god, ayy, ive...               85   \n",
       "9   [rihanna, work, said, haffi, see, mi, dirt, pu...               66   \n",
       "10  [promised, world, fell, put, first, adored, se...               53   \n",
       "\n",
       "    unique words  word count  lexicalrichness  \n",
       "0           3394       13193        25.725764  \n",
       "1           4980       19041        26.154089  \n",
       "2           1519        3720        40.833333  \n",
       "3           4490       18650        24.075067  \n",
       "4           3752       18659        20.108259  \n",
       "5           3605       13202        27.306469  \n",
       "6           4299       17147        25.071441  \n",
       "7           1841        7724        23.834801  \n",
       "8           3091       10823        28.559549  \n",
       "9           2869       16391        17.503508  \n",
       "10          1965        5676        34.619450  "
      ]
     },
     "execution_count": 17,
     "metadata": {},
     "output_type": "execute_result"
    }
   ],
   "source": [
    "artists=['ArianaGrande','Beyonce','BillieEilish','EdSheeran','JustinBieber','KatyPerry','LadyGaga','Maroon5','PostMalone','Rihanna','SelenaGomez']\n",
    "df_info =pd.DataFrame({'name':artists,'before':before,'after':after,'words':wd,'unique words':ulength,'word count':length})\n",
    "df_info['diff']=df_info['before']-df_info['after']\n",
    "df_info['words per songs'] = round(df_info['word count'] / df_info['after'],0)\n",
    "df_info['words per songs'] = df_info['words per songs'].astype('int')\n",
    "df_info['lexicalrichness']=(df_info['unique words']/df_info['word count'])*100\n",
    "df_info=df_info[['name','before','after','diff','words','words per songs','unique words','word count','lexicalrichness']]\n",
    "df_info"
   ]
  },
  {
   "cell_type": "code",
   "execution_count": 18,
   "id": "handy-sunset",
   "metadata": {
    "execution": {
     "iopub.execute_input": "2021-05-15T20:04:28.637675Z",
     "iopub.status.busy": "2021-05-15T20:04:28.636998Z",
     "iopub.status.idle": "2021-05-15T20:04:28.725960Z",
     "shell.execute_reply": "2021-05-15T20:04:28.725283Z"
    },
    "papermill": {
     "duration": 0.117233,
     "end_time": "2021-05-15T20:04:28.726125",
     "exception": false,
     "start_time": "2021-05-15T20:04:28.608892",
     "status": "completed"
    },
    "tags": []
   },
   "outputs": [
    {
     "data": {
      "application/vnd.plotly.v1+json": {
       "config": {
        "plotlyServerURL": "https://plot.ly"
       },
       "data": [
        {
         "name": "Unique Word Count",
         "type": "bar",
         "x": [
          "ArianaGrande",
          "Beyonce",
          "BillieEilish",
          "EdSheeran",
          "JustinBieber",
          "KatyPerry",
          "LadyGaga",
          "Maroon5",
          "PostMalone",
          "Rihanna",
          "SelenaGomez"
         ],
         "y": [
          3394,
          4980,
          1519,
          4490,
          3752,
          3605,
          4299,
          1841,
          3091,
          2869,
          1965
         ]
        },
        {
         "name": "Total Word Count",
         "type": "bar",
         "x": [
          "ArianaGrande",
          "Beyonce",
          "BillieEilish",
          "EdSheeran",
          "JustinBieber",
          "KatyPerry",
          "LadyGaga",
          "Maroon5",
          "PostMalone",
          "Rihanna",
          "SelenaGomez"
         ],
         "y": [
          13193,
          19041,
          3720,
          18650,
          18659,
          13202,
          17147,
          7724,
          10823,
          16391,
          5676
         ]
        }
       ],
       "layout": {
        "barmode": "group",
        "template": {
         "data": {
          "bar": [
           {
            "error_x": {
             "color": "#2a3f5f"
            },
            "error_y": {
             "color": "#2a3f5f"
            },
            "marker": {
             "line": {
              "color": "#E5ECF6",
              "width": 0.5
             },
             "pattern": {
              "fillmode": "overlay",
              "size": 10,
              "solidity": 0.2
             }
            },
            "type": "bar"
           }
          ],
          "barpolar": [
           {
            "marker": {
             "line": {
              "color": "#E5ECF6",
              "width": 0.5
             },
             "pattern": {
              "fillmode": "overlay",
              "size": 10,
              "solidity": 0.2
             }
            },
            "type": "barpolar"
           }
          ],
          "carpet": [
           {
            "aaxis": {
             "endlinecolor": "#2a3f5f",
             "gridcolor": "white",
             "linecolor": "white",
             "minorgridcolor": "white",
             "startlinecolor": "#2a3f5f"
            },
            "baxis": {
             "endlinecolor": "#2a3f5f",
             "gridcolor": "white",
             "linecolor": "white",
             "minorgridcolor": "white",
             "startlinecolor": "#2a3f5f"
            },
            "type": "carpet"
           }
          ],
          "choropleth": [
           {
            "colorbar": {
             "outlinewidth": 0,
             "ticks": ""
            },
            "type": "choropleth"
           }
          ],
          "contour": [
           {
            "colorbar": {
             "outlinewidth": 0,
             "ticks": ""
            },
            "colorscale": [
             [
              0,
              "#0d0887"
             ],
             [
              0.1111111111111111,
              "#46039f"
             ],
             [
              0.2222222222222222,
              "#7201a8"
             ],
             [
              0.3333333333333333,
              "#9c179e"
             ],
             [
              0.4444444444444444,
              "#bd3786"
             ],
             [
              0.5555555555555556,
              "#d8576b"
             ],
             [
              0.6666666666666666,
              "#ed7953"
             ],
             [
              0.7777777777777778,
              "#fb9f3a"
             ],
             [
              0.8888888888888888,
              "#fdca26"
             ],
             [
              1,
              "#f0f921"
             ]
            ],
            "type": "contour"
           }
          ],
          "contourcarpet": [
           {
            "colorbar": {
             "outlinewidth": 0,
             "ticks": ""
            },
            "type": "contourcarpet"
           }
          ],
          "heatmap": [
           {
            "colorbar": {
             "outlinewidth": 0,
             "ticks": ""
            },
            "colorscale": [
             [
              0,
              "#0d0887"
             ],
             [
              0.1111111111111111,
              "#46039f"
             ],
             [
              0.2222222222222222,
              "#7201a8"
             ],
             [
              0.3333333333333333,
              "#9c179e"
             ],
             [
              0.4444444444444444,
              "#bd3786"
             ],
             [
              0.5555555555555556,
              "#d8576b"
             ],
             [
              0.6666666666666666,
              "#ed7953"
             ],
             [
              0.7777777777777778,
              "#fb9f3a"
             ],
             [
              0.8888888888888888,
              "#fdca26"
             ],
             [
              1,
              "#f0f921"
             ]
            ],
            "type": "heatmap"
           }
          ],
          "heatmapgl": [
           {
            "colorbar": {
             "outlinewidth": 0,
             "ticks": ""
            },
            "colorscale": [
             [
              0,
              "#0d0887"
             ],
             [
              0.1111111111111111,
              "#46039f"
             ],
             [
              0.2222222222222222,
              "#7201a8"
             ],
             [
              0.3333333333333333,
              "#9c179e"
             ],
             [
              0.4444444444444444,
              "#bd3786"
             ],
             [
              0.5555555555555556,
              "#d8576b"
             ],
             [
              0.6666666666666666,
              "#ed7953"
             ],
             [
              0.7777777777777778,
              "#fb9f3a"
             ],
             [
              0.8888888888888888,
              "#fdca26"
             ],
             [
              1,
              "#f0f921"
             ]
            ],
            "type": "heatmapgl"
           }
          ],
          "histogram": [
           {
            "marker": {
             "pattern": {
              "fillmode": "overlay",
              "size": 10,
              "solidity": 0.2
             }
            },
            "type": "histogram"
           }
          ],
          "histogram2d": [
           {
            "colorbar": {
             "outlinewidth": 0,
             "ticks": ""
            },
            "colorscale": [
             [
              0,
              "#0d0887"
             ],
             [
              0.1111111111111111,
              "#46039f"
             ],
             [
              0.2222222222222222,
              "#7201a8"
             ],
             [
              0.3333333333333333,
              "#9c179e"
             ],
             [
              0.4444444444444444,
              "#bd3786"
             ],
             [
              0.5555555555555556,
              "#d8576b"
             ],
             [
              0.6666666666666666,
              "#ed7953"
             ],
             [
              0.7777777777777778,
              "#fb9f3a"
             ],
             [
              0.8888888888888888,
              "#fdca26"
             ],
             [
              1,
              "#f0f921"
             ]
            ],
            "type": "histogram2d"
           }
          ],
          "histogram2dcontour": [
           {
            "colorbar": {
             "outlinewidth": 0,
             "ticks": ""
            },
            "colorscale": [
             [
              0,
              "#0d0887"
             ],
             [
              0.1111111111111111,
              "#46039f"
             ],
             [
              0.2222222222222222,
              "#7201a8"
             ],
             [
              0.3333333333333333,
              "#9c179e"
             ],
             [
              0.4444444444444444,
              "#bd3786"
             ],
             [
              0.5555555555555556,
              "#d8576b"
             ],
             [
              0.6666666666666666,
              "#ed7953"
             ],
             [
              0.7777777777777778,
              "#fb9f3a"
             ],
             [
              0.8888888888888888,
              "#fdca26"
             ],
             [
              1,
              "#f0f921"
             ]
            ],
            "type": "histogram2dcontour"
           }
          ],
          "mesh3d": [
           {
            "colorbar": {
             "outlinewidth": 0,
             "ticks": ""
            },
            "type": "mesh3d"
           }
          ],
          "parcoords": [
           {
            "line": {
             "colorbar": {
              "outlinewidth": 0,
              "ticks": ""
             }
            },
            "type": "parcoords"
           }
          ],
          "pie": [
           {
            "automargin": true,
            "type": "pie"
           }
          ],
          "scatter": [
           {
            "marker": {
             "colorbar": {
              "outlinewidth": 0,
              "ticks": ""
             }
            },
            "type": "scatter"
           }
          ],
          "scatter3d": [
           {
            "line": {
             "colorbar": {
              "outlinewidth": 0,
              "ticks": ""
             }
            },
            "marker": {
             "colorbar": {
              "outlinewidth": 0,
              "ticks": ""
             }
            },
            "type": "scatter3d"
           }
          ],
          "scattercarpet": [
           {
            "marker": {
             "colorbar": {
              "outlinewidth": 0,
              "ticks": ""
             }
            },
            "type": "scattercarpet"
           }
          ],
          "scattergeo": [
           {
            "marker": {
             "colorbar": {
              "outlinewidth": 0,
              "ticks": ""
             }
            },
            "type": "scattergeo"
           }
          ],
          "scattergl": [
           {
            "marker": {
             "colorbar": {
              "outlinewidth": 0,
              "ticks": ""
             }
            },
            "type": "scattergl"
           }
          ],
          "scattermapbox": [
           {
            "marker": {
             "colorbar": {
              "outlinewidth": 0,
              "ticks": ""
             }
            },
            "type": "scattermapbox"
           }
          ],
          "scatterpolar": [
           {
            "marker": {
             "colorbar": {
              "outlinewidth": 0,
              "ticks": ""
             }
            },
            "type": "scatterpolar"
           }
          ],
          "scatterpolargl": [
           {
            "marker": {
             "colorbar": {
              "outlinewidth": 0,
              "ticks": ""
             }
            },
            "type": "scatterpolargl"
           }
          ],
          "scatterternary": [
           {
            "marker": {
             "colorbar": {
              "outlinewidth": 0,
              "ticks": ""
             }
            },
            "type": "scatterternary"
           }
          ],
          "surface": [
           {
            "colorbar": {
             "outlinewidth": 0,
             "ticks": ""
            },
            "colorscale": [
             [
              0,
              "#0d0887"
             ],
             [
              0.1111111111111111,
              "#46039f"
             ],
             [
              0.2222222222222222,
              "#7201a8"
             ],
             [
              0.3333333333333333,
              "#9c179e"
             ],
             [
              0.4444444444444444,
              "#bd3786"
             ],
             [
              0.5555555555555556,
              "#d8576b"
             ],
             [
              0.6666666666666666,
              "#ed7953"
             ],
             [
              0.7777777777777778,
              "#fb9f3a"
             ],
             [
              0.8888888888888888,
              "#fdca26"
             ],
             [
              1,
              "#f0f921"
             ]
            ],
            "type": "surface"
           }
          ],
          "table": [
           {
            "cells": {
             "fill": {
              "color": "#EBF0F8"
             },
             "line": {
              "color": "white"
             }
            },
            "header": {
             "fill": {
              "color": "#C8D4E3"
             },
             "line": {
              "color": "white"
             }
            },
            "type": "table"
           }
          ]
         },
         "layout": {
          "annotationdefaults": {
           "arrowcolor": "#2a3f5f",
           "arrowhead": 0,
           "arrowwidth": 1
          },
          "autotypenumbers": "strict",
          "coloraxis": {
           "colorbar": {
            "outlinewidth": 0,
            "ticks": ""
           }
          },
          "colorscale": {
           "diverging": [
            [
             0,
             "#8e0152"
            ],
            [
             0.1,
             "#c51b7d"
            ],
            [
             0.2,
             "#de77ae"
            ],
            [
             0.3,
             "#f1b6da"
            ],
            [
             0.4,
             "#fde0ef"
            ],
            [
             0.5,
             "#f7f7f7"
            ],
            [
             0.6,
             "#e6f5d0"
            ],
            [
             0.7,
             "#b8e186"
            ],
            [
             0.8,
             "#7fbc41"
            ],
            [
             0.9,
             "#4d9221"
            ],
            [
             1,
             "#276419"
            ]
           ],
           "sequential": [
            [
             0,
             "#0d0887"
            ],
            [
             0.1111111111111111,
             "#46039f"
            ],
            [
             0.2222222222222222,
             "#7201a8"
            ],
            [
             0.3333333333333333,
             "#9c179e"
            ],
            [
             0.4444444444444444,
             "#bd3786"
            ],
            [
             0.5555555555555556,
             "#d8576b"
            ],
            [
             0.6666666666666666,
             "#ed7953"
            ],
            [
             0.7777777777777778,
             "#fb9f3a"
            ],
            [
             0.8888888888888888,
             "#fdca26"
            ],
            [
             1,
             "#f0f921"
            ]
           ],
           "sequentialminus": [
            [
             0,
             "#0d0887"
            ],
            [
             0.1111111111111111,
             "#46039f"
            ],
            [
             0.2222222222222222,
             "#7201a8"
            ],
            [
             0.3333333333333333,
             "#9c179e"
            ],
            [
             0.4444444444444444,
             "#bd3786"
            ],
            [
             0.5555555555555556,
             "#d8576b"
            ],
            [
             0.6666666666666666,
             "#ed7953"
            ],
            [
             0.7777777777777778,
             "#fb9f3a"
            ],
            [
             0.8888888888888888,
             "#fdca26"
            ],
            [
             1,
             "#f0f921"
            ]
           ]
          },
          "colorway": [
           "#636efa",
           "#EF553B",
           "#00cc96",
           "#ab63fa",
           "#FFA15A",
           "#19d3f3",
           "#FF6692",
           "#B6E880",
           "#FF97FF",
           "#FECB52"
          ],
          "font": {
           "color": "#2a3f5f"
          },
          "geo": {
           "bgcolor": "white",
           "lakecolor": "white",
           "landcolor": "#E5ECF6",
           "showlakes": true,
           "showland": true,
           "subunitcolor": "white"
          },
          "hoverlabel": {
           "align": "left"
          },
          "hovermode": "closest",
          "mapbox": {
           "style": "light"
          },
          "paper_bgcolor": "white",
          "plot_bgcolor": "#E5ECF6",
          "polar": {
           "angularaxis": {
            "gridcolor": "white",
            "linecolor": "white",
            "ticks": ""
           },
           "bgcolor": "#E5ECF6",
           "radialaxis": {
            "gridcolor": "white",
            "linecolor": "white",
            "ticks": ""
           }
          },
          "scene": {
           "xaxis": {
            "backgroundcolor": "#E5ECF6",
            "gridcolor": "white",
            "gridwidth": 2,
            "linecolor": "white",
            "showbackground": true,
            "ticks": "",
            "zerolinecolor": "white"
           },
           "yaxis": {
            "backgroundcolor": "#E5ECF6",
            "gridcolor": "white",
            "gridwidth": 2,
            "linecolor": "white",
            "showbackground": true,
            "ticks": "",
            "zerolinecolor": "white"
           },
           "zaxis": {
            "backgroundcolor": "#E5ECF6",
            "gridcolor": "white",
            "gridwidth": 2,
            "linecolor": "white",
            "showbackground": true,
            "ticks": "",
            "zerolinecolor": "white"
           }
          },
          "shapedefaults": {
           "line": {
            "color": "#2a3f5f"
           }
          },
          "ternary": {
           "aaxis": {
            "gridcolor": "white",
            "linecolor": "white",
            "ticks": ""
           },
           "baxis": {
            "gridcolor": "white",
            "linecolor": "white",
            "ticks": ""
           },
           "bgcolor": "#E5ECF6",
           "caxis": {
            "gridcolor": "white",
            "linecolor": "white",
            "ticks": ""
           }
          },
          "title": {
           "x": 0.05
          },
          "xaxis": {
           "automargin": true,
           "gridcolor": "white",
           "linecolor": "white",
           "ticks": "",
           "title": {
            "standoff": 15
           },
           "zerolinecolor": "white",
           "zerolinewidth": 2
          },
          "yaxis": {
           "automargin": true,
           "gridcolor": "white",
           "linecolor": "white",
           "ticks": "",
           "title": {
            "standoff": 15
           },
           "zerolinecolor": "white",
           "zerolinewidth": 2
          }
         }
        },
        "title": {
         "text": "Total words vs Unique words",
         "x": 0.5,
         "xanchor": "center",
         "y": 0.9,
         "yanchor": "top"
        }
       }
      },
      "text/html": [
       "<div>                            <div id=\"0a2f84a3-b669-4803-88f6-e4d4ce76e920\" class=\"plotly-graph-div\" style=\"height:525px; width:100%;\"></div>            <script type=\"text/javascript\">                require([\"plotly\"], function(Plotly) {                    window.PLOTLYENV=window.PLOTLYENV || {};                                    if (document.getElementById(\"0a2f84a3-b669-4803-88f6-e4d4ce76e920\")) {                    Plotly.newPlot(                        \"0a2f84a3-b669-4803-88f6-e4d4ce76e920\",                        [{\"name\":\"Unique Word Count\",\"x\":[\"ArianaGrande\",\"Beyonce\",\"BillieEilish\",\"EdSheeran\",\"JustinBieber\",\"KatyPerry\",\"LadyGaga\",\"Maroon5\",\"PostMalone\",\"Rihanna\",\"SelenaGomez\"],\"y\":[3394,4980,1519,4490,3752,3605,4299,1841,3091,2869,1965],\"type\":\"bar\"},{\"name\":\"Total Word Count\",\"x\":[\"ArianaGrande\",\"Beyonce\",\"BillieEilish\",\"EdSheeran\",\"JustinBieber\",\"KatyPerry\",\"LadyGaga\",\"Maroon5\",\"PostMalone\",\"Rihanna\",\"SelenaGomez\"],\"y\":[13193,19041,3720,18650,18659,13202,17147,7724,10823,16391,5676],\"type\":\"bar\"}],                        {\"template\":{\"data\":{\"bar\":[{\"error_x\":{\"color\":\"#2a3f5f\"},\"error_y\":{\"color\":\"#2a3f5f\"},\"marker\":{\"line\":{\"color\":\"#E5ECF6\",\"width\":0.5},\"pattern\":{\"fillmode\":\"overlay\",\"size\":10,\"solidity\":0.2}},\"type\":\"bar\"}],\"barpolar\":[{\"marker\":{\"line\":{\"color\":\"#E5ECF6\",\"width\":0.5},\"pattern\":{\"fillmode\":\"overlay\",\"size\":10,\"solidity\":0.2}},\"type\":\"barpolar\"}],\"carpet\":[{\"aaxis\":{\"endlinecolor\":\"#2a3f5f\",\"gridcolor\":\"white\",\"linecolor\":\"white\",\"minorgridcolor\":\"white\",\"startlinecolor\":\"#2a3f5f\"},\"baxis\":{\"endlinecolor\":\"#2a3f5f\",\"gridcolor\":\"white\",\"linecolor\":\"white\",\"minorgridcolor\":\"white\",\"startlinecolor\":\"#2a3f5f\"},\"type\":\"carpet\"}],\"choropleth\":[{\"colorbar\":{\"outlinewidth\":0,\"ticks\":\"\"},\"type\":\"choropleth\"}],\"contour\":[{\"colorbar\":{\"outlinewidth\":0,\"ticks\":\"\"},\"colorscale\":[[0.0,\"#0d0887\"],[0.1111111111111111,\"#46039f\"],[0.2222222222222222,\"#7201a8\"],[0.3333333333333333,\"#9c179e\"],[0.4444444444444444,\"#bd3786\"],[0.5555555555555556,\"#d8576b\"],[0.6666666666666666,\"#ed7953\"],[0.7777777777777778,\"#fb9f3a\"],[0.8888888888888888,\"#fdca26\"],[1.0,\"#f0f921\"]],\"type\":\"contour\"}],\"contourcarpet\":[{\"colorbar\":{\"outlinewidth\":0,\"ticks\":\"\"},\"type\":\"contourcarpet\"}],\"heatmap\":[{\"colorbar\":{\"outlinewidth\":0,\"ticks\":\"\"},\"colorscale\":[[0.0,\"#0d0887\"],[0.1111111111111111,\"#46039f\"],[0.2222222222222222,\"#7201a8\"],[0.3333333333333333,\"#9c179e\"],[0.4444444444444444,\"#bd3786\"],[0.5555555555555556,\"#d8576b\"],[0.6666666666666666,\"#ed7953\"],[0.7777777777777778,\"#fb9f3a\"],[0.8888888888888888,\"#fdca26\"],[1.0,\"#f0f921\"]],\"type\":\"heatmap\"}],\"heatmapgl\":[{\"colorbar\":{\"outlinewidth\":0,\"ticks\":\"\"},\"colorscale\":[[0.0,\"#0d0887\"],[0.1111111111111111,\"#46039f\"],[0.2222222222222222,\"#7201a8\"],[0.3333333333333333,\"#9c179e\"],[0.4444444444444444,\"#bd3786\"],[0.5555555555555556,\"#d8576b\"],[0.6666666666666666,\"#ed7953\"],[0.7777777777777778,\"#fb9f3a\"],[0.8888888888888888,\"#fdca26\"],[1.0,\"#f0f921\"]],\"type\":\"heatmapgl\"}],\"histogram\":[{\"marker\":{\"pattern\":{\"fillmode\":\"overlay\",\"size\":10,\"solidity\":0.2}},\"type\":\"histogram\"}],\"histogram2d\":[{\"colorbar\":{\"outlinewidth\":0,\"ticks\":\"\"},\"colorscale\":[[0.0,\"#0d0887\"],[0.1111111111111111,\"#46039f\"],[0.2222222222222222,\"#7201a8\"],[0.3333333333333333,\"#9c179e\"],[0.4444444444444444,\"#bd3786\"],[0.5555555555555556,\"#d8576b\"],[0.6666666666666666,\"#ed7953\"],[0.7777777777777778,\"#fb9f3a\"],[0.8888888888888888,\"#fdca26\"],[1.0,\"#f0f921\"]],\"type\":\"histogram2d\"}],\"histogram2dcontour\":[{\"colorbar\":{\"outlinewidth\":0,\"ticks\":\"\"},\"colorscale\":[[0.0,\"#0d0887\"],[0.1111111111111111,\"#46039f\"],[0.2222222222222222,\"#7201a8\"],[0.3333333333333333,\"#9c179e\"],[0.4444444444444444,\"#bd3786\"],[0.5555555555555556,\"#d8576b\"],[0.6666666666666666,\"#ed7953\"],[0.7777777777777778,\"#fb9f3a\"],[0.8888888888888888,\"#fdca26\"],[1.0,\"#f0f921\"]],\"type\":\"histogram2dcontour\"}],\"mesh3d\":[{\"colorbar\":{\"outlinewidth\":0,\"ticks\":\"\"},\"type\":\"mesh3d\"}],\"parcoords\":[{\"line\":{\"colorbar\":{\"outlinewidth\":0,\"ticks\":\"\"}},\"type\":\"parcoords\"}],\"pie\":[{\"automargin\":true,\"type\":\"pie\"}],\"scatter\":[{\"marker\":{\"colorbar\":{\"outlinewidth\":0,\"ticks\":\"\"}},\"type\":\"scatter\"}],\"scatter3d\":[{\"line\":{\"colorbar\":{\"outlinewidth\":0,\"ticks\":\"\"}},\"marker\":{\"colorbar\":{\"outlinewidth\":0,\"ticks\":\"\"}},\"type\":\"scatter3d\"}],\"scattercarpet\":[{\"marker\":{\"colorbar\":{\"outlinewidth\":0,\"ticks\":\"\"}},\"type\":\"scattercarpet\"}],\"scattergeo\":[{\"marker\":{\"colorbar\":{\"outlinewidth\":0,\"ticks\":\"\"}},\"type\":\"scattergeo\"}],\"scattergl\":[{\"marker\":{\"colorbar\":{\"outlinewidth\":0,\"ticks\":\"\"}},\"type\":\"scattergl\"}],\"scattermapbox\":[{\"marker\":{\"colorbar\":{\"outlinewidth\":0,\"ticks\":\"\"}},\"type\":\"scattermapbox\"}],\"scatterpolar\":[{\"marker\":{\"colorbar\":{\"outlinewidth\":0,\"ticks\":\"\"}},\"type\":\"scatterpolar\"}],\"scatterpolargl\":[{\"marker\":{\"colorbar\":{\"outlinewidth\":0,\"ticks\":\"\"}},\"type\":\"scatterpolargl\"}],\"scatterternary\":[{\"marker\":{\"colorbar\":{\"outlinewidth\":0,\"ticks\":\"\"}},\"type\":\"scatterternary\"}],\"surface\":[{\"colorbar\":{\"outlinewidth\":0,\"ticks\":\"\"},\"colorscale\":[[0.0,\"#0d0887\"],[0.1111111111111111,\"#46039f\"],[0.2222222222222222,\"#7201a8\"],[0.3333333333333333,\"#9c179e\"],[0.4444444444444444,\"#bd3786\"],[0.5555555555555556,\"#d8576b\"],[0.6666666666666666,\"#ed7953\"],[0.7777777777777778,\"#fb9f3a\"],[0.8888888888888888,\"#fdca26\"],[1.0,\"#f0f921\"]],\"type\":\"surface\"}],\"table\":[{\"cells\":{\"fill\":{\"color\":\"#EBF0F8\"},\"line\":{\"color\":\"white\"}},\"header\":{\"fill\":{\"color\":\"#C8D4E3\"},\"line\":{\"color\":\"white\"}},\"type\":\"table\"}]},\"layout\":{\"annotationdefaults\":{\"arrowcolor\":\"#2a3f5f\",\"arrowhead\":0,\"arrowwidth\":1},\"autotypenumbers\":\"strict\",\"coloraxis\":{\"colorbar\":{\"outlinewidth\":0,\"ticks\":\"\"}},\"colorscale\":{\"diverging\":[[0,\"#8e0152\"],[0.1,\"#c51b7d\"],[0.2,\"#de77ae\"],[0.3,\"#f1b6da\"],[0.4,\"#fde0ef\"],[0.5,\"#f7f7f7\"],[0.6,\"#e6f5d0\"],[0.7,\"#b8e186\"],[0.8,\"#7fbc41\"],[0.9,\"#4d9221\"],[1,\"#276419\"]],\"sequential\":[[0.0,\"#0d0887\"],[0.1111111111111111,\"#46039f\"],[0.2222222222222222,\"#7201a8\"],[0.3333333333333333,\"#9c179e\"],[0.4444444444444444,\"#bd3786\"],[0.5555555555555556,\"#d8576b\"],[0.6666666666666666,\"#ed7953\"],[0.7777777777777778,\"#fb9f3a\"],[0.8888888888888888,\"#fdca26\"],[1.0,\"#f0f921\"]],\"sequentialminus\":[[0.0,\"#0d0887\"],[0.1111111111111111,\"#46039f\"],[0.2222222222222222,\"#7201a8\"],[0.3333333333333333,\"#9c179e\"],[0.4444444444444444,\"#bd3786\"],[0.5555555555555556,\"#d8576b\"],[0.6666666666666666,\"#ed7953\"],[0.7777777777777778,\"#fb9f3a\"],[0.8888888888888888,\"#fdca26\"],[1.0,\"#f0f921\"]]},\"colorway\":[\"#636efa\",\"#EF553B\",\"#00cc96\",\"#ab63fa\",\"#FFA15A\",\"#19d3f3\",\"#FF6692\",\"#B6E880\",\"#FF97FF\",\"#FECB52\"],\"font\":{\"color\":\"#2a3f5f\"},\"geo\":{\"bgcolor\":\"white\",\"lakecolor\":\"white\",\"landcolor\":\"#E5ECF6\",\"showlakes\":true,\"showland\":true,\"subunitcolor\":\"white\"},\"hoverlabel\":{\"align\":\"left\"},\"hovermode\":\"closest\",\"mapbox\":{\"style\":\"light\"},\"paper_bgcolor\":\"white\",\"plot_bgcolor\":\"#E5ECF6\",\"polar\":{\"angularaxis\":{\"gridcolor\":\"white\",\"linecolor\":\"white\",\"ticks\":\"\"},\"bgcolor\":\"#E5ECF6\",\"radialaxis\":{\"gridcolor\":\"white\",\"linecolor\":\"white\",\"ticks\":\"\"}},\"scene\":{\"xaxis\":{\"backgroundcolor\":\"#E5ECF6\",\"gridcolor\":\"white\",\"gridwidth\":2,\"linecolor\":\"white\",\"showbackground\":true,\"ticks\":\"\",\"zerolinecolor\":\"white\"},\"yaxis\":{\"backgroundcolor\":\"#E5ECF6\",\"gridcolor\":\"white\",\"gridwidth\":2,\"linecolor\":\"white\",\"showbackground\":true,\"ticks\":\"\",\"zerolinecolor\":\"white\"},\"zaxis\":{\"backgroundcolor\":\"#E5ECF6\",\"gridcolor\":\"white\",\"gridwidth\":2,\"linecolor\":\"white\",\"showbackground\":true,\"ticks\":\"\",\"zerolinecolor\":\"white\"}},\"shapedefaults\":{\"line\":{\"color\":\"#2a3f5f\"}},\"ternary\":{\"aaxis\":{\"gridcolor\":\"white\",\"linecolor\":\"white\",\"ticks\":\"\"},\"baxis\":{\"gridcolor\":\"white\",\"linecolor\":\"white\",\"ticks\":\"\"},\"bgcolor\":\"#E5ECF6\",\"caxis\":{\"gridcolor\":\"white\",\"linecolor\":\"white\",\"ticks\":\"\"}},\"title\":{\"x\":0.05},\"xaxis\":{\"automargin\":true,\"gridcolor\":\"white\",\"linecolor\":\"white\",\"ticks\":\"\",\"title\":{\"standoff\":15},\"zerolinecolor\":\"white\",\"zerolinewidth\":2},\"yaxis\":{\"automargin\":true,\"gridcolor\":\"white\",\"linecolor\":\"white\",\"ticks\":\"\",\"title\":{\"standoff\":15},\"zerolinecolor\":\"white\",\"zerolinewidth\":2}}},\"title\":{\"text\":\"Total words vs Unique words\",\"y\":0.9,\"x\":0.5,\"xanchor\":\"center\",\"yanchor\":\"top\"},\"barmode\":\"group\"},                        {\"responsive\": true}                    ).then(function(){\n",
       "                            \n",
       "var gd = document.getElementById('0a2f84a3-b669-4803-88f6-e4d4ce76e920');\n",
       "var x = new MutationObserver(function (mutations, observer) {{\n",
       "        var display = window.getComputedStyle(gd).display;\n",
       "        if (!display || display === 'none') {{\n",
       "            console.log([gd, 'removed!']);\n",
       "            Plotly.purge(gd);\n",
       "            observer.disconnect();\n",
       "        }}\n",
       "}});\n",
       "\n",
       "// Listen for the removal of the full notebook cells\n",
       "var notebookContainer = gd.closest('#notebook-container');\n",
       "if (notebookContainer) {{\n",
       "    x.observe(notebookContainer, {childList: true});\n",
       "}}\n",
       "\n",
       "// Listen for the clearing of the current output cell\n",
       "var outputEl = gd.closest('.output');\n",
       "if (outputEl) {{\n",
       "    x.observe(outputEl, {childList: true});\n",
       "}}\n",
       "\n",
       "                        })                };                });            </script>        </div>"
      ]
     },
     "metadata": {},
     "output_type": "display_data"
    }
   ],
   "source": [
    "fig = go.Figure(data=[\n",
    "    go.Bar(name='Unique Word Count', x=df_info['name'], y=df_info['unique words'].tolist()),\n",
    "    go.Bar(name='Total Word Count', x=df_info['name'], y=df_info['word count'].tolist()),\n",
    "    \n",
    "])\n",
    "# Change the bar mode\n",
    "fig.update_layout(barmode='group',title={'text': \"Total words vs Unique words\",'y':0.9,'x':0.5,'xanchor': 'center','yanchor': 'top'})\n",
    "fig.show()"
   ]
  },
  {
   "cell_type": "code",
   "execution_count": 19,
   "id": "earned-swiss",
   "metadata": {
    "execution": {
     "iopub.execute_input": "2021-05-15T20:04:28.781759Z",
     "iopub.status.busy": "2021-05-15T20:04:28.780799Z",
     "iopub.status.idle": "2021-05-15T20:04:29.775263Z",
     "shell.execute_reply": "2021-05-15T20:04:29.774671Z"
    },
    "papermill": {
     "duration": 1.025805,
     "end_time": "2021-05-15T20:04:29.775405",
     "exception": false,
     "start_time": "2021-05-15T20:04:28.749600",
     "status": "completed"
    },
    "tags": []
   },
   "outputs": [
    {
     "name": "stdout",
     "output_type": "stream",
     "text": [
      "2    BillieEilish\n",
      "Name: name, dtype: object\n",
      "40.833333333333336\n"
     ]
    },
    {
     "data": {
      "application/vnd.plotly.v1+json": {
       "config": {
        "plotlyServerURL": "https://plot.ly"
       },
       "data": [
        {
         "alignmentgroup": "True",
         "hovertemplate": "name=%{x}<br>lexicalrichness=%{y}<extra></extra>",
         "legendgroup": "",
         "marker": {
          "color": "#636efa",
          "pattern": {
           "shape": ""
          }
         },
         "name": "",
         "offsetgroup": "",
         "orientation": "v",
         "showlegend": false,
         "textposition": "auto",
         "type": "bar",
         "x": [
          "ArianaGrande",
          "Beyonce",
          "BillieEilish",
          "EdSheeran",
          "JustinBieber",
          "KatyPerry",
          "LadyGaga",
          "Maroon5",
          "PostMalone",
          "Rihanna",
          "SelenaGomez"
         ],
         "xaxis": "x",
         "y": [
          25.725763662548324,
          26.154088545769653,
          40.833333333333336,
          24.075067024128685,
          20.108258749129106,
          27.306468716861083,
          25.07144106840847,
          23.83480062143967,
          28.5595491083803,
          17.50350802269538,
          34.61945031712473
         ],
         "yaxis": "y"
        }
       ],
       "layout": {
        "barmode": "relative",
        "legend": {
         "tracegroupgap": 0
        },
        "margin": {
         "t": 60
        },
        "template": {
         "data": {
          "bar": [
           {
            "error_x": {
             "color": "#2a3f5f"
            },
            "error_y": {
             "color": "#2a3f5f"
            },
            "marker": {
             "line": {
              "color": "#E5ECF6",
              "width": 0.5
             },
             "pattern": {
              "fillmode": "overlay",
              "size": 10,
              "solidity": 0.2
             }
            },
            "type": "bar"
           }
          ],
          "barpolar": [
           {
            "marker": {
             "line": {
              "color": "#E5ECF6",
              "width": 0.5
             },
             "pattern": {
              "fillmode": "overlay",
              "size": 10,
              "solidity": 0.2
             }
            },
            "type": "barpolar"
           }
          ],
          "carpet": [
           {
            "aaxis": {
             "endlinecolor": "#2a3f5f",
             "gridcolor": "white",
             "linecolor": "white",
             "minorgridcolor": "white",
             "startlinecolor": "#2a3f5f"
            },
            "baxis": {
             "endlinecolor": "#2a3f5f",
             "gridcolor": "white",
             "linecolor": "white",
             "minorgridcolor": "white",
             "startlinecolor": "#2a3f5f"
            },
            "type": "carpet"
           }
          ],
          "choropleth": [
           {
            "colorbar": {
             "outlinewidth": 0,
             "ticks": ""
            },
            "type": "choropleth"
           }
          ],
          "contour": [
           {
            "colorbar": {
             "outlinewidth": 0,
             "ticks": ""
            },
            "colorscale": [
             [
              0,
              "#0d0887"
             ],
             [
              0.1111111111111111,
              "#46039f"
             ],
             [
              0.2222222222222222,
              "#7201a8"
             ],
             [
              0.3333333333333333,
              "#9c179e"
             ],
             [
              0.4444444444444444,
              "#bd3786"
             ],
             [
              0.5555555555555556,
              "#d8576b"
             ],
             [
              0.6666666666666666,
              "#ed7953"
             ],
             [
              0.7777777777777778,
              "#fb9f3a"
             ],
             [
              0.8888888888888888,
              "#fdca26"
             ],
             [
              1,
              "#f0f921"
             ]
            ],
            "type": "contour"
           }
          ],
          "contourcarpet": [
           {
            "colorbar": {
             "outlinewidth": 0,
             "ticks": ""
            },
            "type": "contourcarpet"
           }
          ],
          "heatmap": [
           {
            "colorbar": {
             "outlinewidth": 0,
             "ticks": ""
            },
            "colorscale": [
             [
              0,
              "#0d0887"
             ],
             [
              0.1111111111111111,
              "#46039f"
             ],
             [
              0.2222222222222222,
              "#7201a8"
             ],
             [
              0.3333333333333333,
              "#9c179e"
             ],
             [
              0.4444444444444444,
              "#bd3786"
             ],
             [
              0.5555555555555556,
              "#d8576b"
             ],
             [
              0.6666666666666666,
              "#ed7953"
             ],
             [
              0.7777777777777778,
              "#fb9f3a"
             ],
             [
              0.8888888888888888,
              "#fdca26"
             ],
             [
              1,
              "#f0f921"
             ]
            ],
            "type": "heatmap"
           }
          ],
          "heatmapgl": [
           {
            "colorbar": {
             "outlinewidth": 0,
             "ticks": ""
            },
            "colorscale": [
             [
              0,
              "#0d0887"
             ],
             [
              0.1111111111111111,
              "#46039f"
             ],
             [
              0.2222222222222222,
              "#7201a8"
             ],
             [
              0.3333333333333333,
              "#9c179e"
             ],
             [
              0.4444444444444444,
              "#bd3786"
             ],
             [
              0.5555555555555556,
              "#d8576b"
             ],
             [
              0.6666666666666666,
              "#ed7953"
             ],
             [
              0.7777777777777778,
              "#fb9f3a"
             ],
             [
              0.8888888888888888,
              "#fdca26"
             ],
             [
              1,
              "#f0f921"
             ]
            ],
            "type": "heatmapgl"
           }
          ],
          "histogram": [
           {
            "marker": {
             "pattern": {
              "fillmode": "overlay",
              "size": 10,
              "solidity": 0.2
             }
            },
            "type": "histogram"
           }
          ],
          "histogram2d": [
           {
            "colorbar": {
             "outlinewidth": 0,
             "ticks": ""
            },
            "colorscale": [
             [
              0,
              "#0d0887"
             ],
             [
              0.1111111111111111,
              "#46039f"
             ],
             [
              0.2222222222222222,
              "#7201a8"
             ],
             [
              0.3333333333333333,
              "#9c179e"
             ],
             [
              0.4444444444444444,
              "#bd3786"
             ],
             [
              0.5555555555555556,
              "#d8576b"
             ],
             [
              0.6666666666666666,
              "#ed7953"
             ],
             [
              0.7777777777777778,
              "#fb9f3a"
             ],
             [
              0.8888888888888888,
              "#fdca26"
             ],
             [
              1,
              "#f0f921"
             ]
            ],
            "type": "histogram2d"
           }
          ],
          "histogram2dcontour": [
           {
            "colorbar": {
             "outlinewidth": 0,
             "ticks": ""
            },
            "colorscale": [
             [
              0,
              "#0d0887"
             ],
             [
              0.1111111111111111,
              "#46039f"
             ],
             [
              0.2222222222222222,
              "#7201a8"
             ],
             [
              0.3333333333333333,
              "#9c179e"
             ],
             [
              0.4444444444444444,
              "#bd3786"
             ],
             [
              0.5555555555555556,
              "#d8576b"
             ],
             [
              0.6666666666666666,
              "#ed7953"
             ],
             [
              0.7777777777777778,
              "#fb9f3a"
             ],
             [
              0.8888888888888888,
              "#fdca26"
             ],
             [
              1,
              "#f0f921"
             ]
            ],
            "type": "histogram2dcontour"
           }
          ],
          "mesh3d": [
           {
            "colorbar": {
             "outlinewidth": 0,
             "ticks": ""
            },
            "type": "mesh3d"
           }
          ],
          "parcoords": [
           {
            "line": {
             "colorbar": {
              "outlinewidth": 0,
              "ticks": ""
             }
            },
            "type": "parcoords"
           }
          ],
          "pie": [
           {
            "automargin": true,
            "type": "pie"
           }
          ],
          "scatter": [
           {
            "marker": {
             "colorbar": {
              "outlinewidth": 0,
              "ticks": ""
             }
            },
            "type": "scatter"
           }
          ],
          "scatter3d": [
           {
            "line": {
             "colorbar": {
              "outlinewidth": 0,
              "ticks": ""
             }
            },
            "marker": {
             "colorbar": {
              "outlinewidth": 0,
              "ticks": ""
             }
            },
            "type": "scatter3d"
           }
          ],
          "scattercarpet": [
           {
            "marker": {
             "colorbar": {
              "outlinewidth": 0,
              "ticks": ""
             }
            },
            "type": "scattercarpet"
           }
          ],
          "scattergeo": [
           {
            "marker": {
             "colorbar": {
              "outlinewidth": 0,
              "ticks": ""
             }
            },
            "type": "scattergeo"
           }
          ],
          "scattergl": [
           {
            "marker": {
             "colorbar": {
              "outlinewidth": 0,
              "ticks": ""
             }
            },
            "type": "scattergl"
           }
          ],
          "scattermapbox": [
           {
            "marker": {
             "colorbar": {
              "outlinewidth": 0,
              "ticks": ""
             }
            },
            "type": "scattermapbox"
           }
          ],
          "scatterpolar": [
           {
            "marker": {
             "colorbar": {
              "outlinewidth": 0,
              "ticks": ""
             }
            },
            "type": "scatterpolar"
           }
          ],
          "scatterpolargl": [
           {
            "marker": {
             "colorbar": {
              "outlinewidth": 0,
              "ticks": ""
             }
            },
            "type": "scatterpolargl"
           }
          ],
          "scatterternary": [
           {
            "marker": {
             "colorbar": {
              "outlinewidth": 0,
              "ticks": ""
             }
            },
            "type": "scatterternary"
           }
          ],
          "surface": [
           {
            "colorbar": {
             "outlinewidth": 0,
             "ticks": ""
            },
            "colorscale": [
             [
              0,
              "#0d0887"
             ],
             [
              0.1111111111111111,
              "#46039f"
             ],
             [
              0.2222222222222222,
              "#7201a8"
             ],
             [
              0.3333333333333333,
              "#9c179e"
             ],
             [
              0.4444444444444444,
              "#bd3786"
             ],
             [
              0.5555555555555556,
              "#d8576b"
             ],
             [
              0.6666666666666666,
              "#ed7953"
             ],
             [
              0.7777777777777778,
              "#fb9f3a"
             ],
             [
              0.8888888888888888,
              "#fdca26"
             ],
             [
              1,
              "#f0f921"
             ]
            ],
            "type": "surface"
           }
          ],
          "table": [
           {
            "cells": {
             "fill": {
              "color": "#EBF0F8"
             },
             "line": {
              "color": "white"
             }
            },
            "header": {
             "fill": {
              "color": "#C8D4E3"
             },
             "line": {
              "color": "white"
             }
            },
            "type": "table"
           }
          ]
         },
         "layout": {
          "annotationdefaults": {
           "arrowcolor": "#2a3f5f",
           "arrowhead": 0,
           "arrowwidth": 1
          },
          "autotypenumbers": "strict",
          "coloraxis": {
           "colorbar": {
            "outlinewidth": 0,
            "ticks": ""
           }
          },
          "colorscale": {
           "diverging": [
            [
             0,
             "#8e0152"
            ],
            [
             0.1,
             "#c51b7d"
            ],
            [
             0.2,
             "#de77ae"
            ],
            [
             0.3,
             "#f1b6da"
            ],
            [
             0.4,
             "#fde0ef"
            ],
            [
             0.5,
             "#f7f7f7"
            ],
            [
             0.6,
             "#e6f5d0"
            ],
            [
             0.7,
             "#b8e186"
            ],
            [
             0.8,
             "#7fbc41"
            ],
            [
             0.9,
             "#4d9221"
            ],
            [
             1,
             "#276419"
            ]
           ],
           "sequential": [
            [
             0,
             "#0d0887"
            ],
            [
             0.1111111111111111,
             "#46039f"
            ],
            [
             0.2222222222222222,
             "#7201a8"
            ],
            [
             0.3333333333333333,
             "#9c179e"
            ],
            [
             0.4444444444444444,
             "#bd3786"
            ],
            [
             0.5555555555555556,
             "#d8576b"
            ],
            [
             0.6666666666666666,
             "#ed7953"
            ],
            [
             0.7777777777777778,
             "#fb9f3a"
            ],
            [
             0.8888888888888888,
             "#fdca26"
            ],
            [
             1,
             "#f0f921"
            ]
           ],
           "sequentialminus": [
            [
             0,
             "#0d0887"
            ],
            [
             0.1111111111111111,
             "#46039f"
            ],
            [
             0.2222222222222222,
             "#7201a8"
            ],
            [
             0.3333333333333333,
             "#9c179e"
            ],
            [
             0.4444444444444444,
             "#bd3786"
            ],
            [
             0.5555555555555556,
             "#d8576b"
            ],
            [
             0.6666666666666666,
             "#ed7953"
            ],
            [
             0.7777777777777778,
             "#fb9f3a"
            ],
            [
             0.8888888888888888,
             "#fdca26"
            ],
            [
             1,
             "#f0f921"
            ]
           ]
          },
          "colorway": [
           "#636efa",
           "#EF553B",
           "#00cc96",
           "#ab63fa",
           "#FFA15A",
           "#19d3f3",
           "#FF6692",
           "#B6E880",
           "#FF97FF",
           "#FECB52"
          ],
          "font": {
           "color": "#2a3f5f"
          },
          "geo": {
           "bgcolor": "white",
           "lakecolor": "white",
           "landcolor": "#E5ECF6",
           "showlakes": true,
           "showland": true,
           "subunitcolor": "white"
          },
          "hoverlabel": {
           "align": "left"
          },
          "hovermode": "closest",
          "mapbox": {
           "style": "light"
          },
          "paper_bgcolor": "white",
          "plot_bgcolor": "#E5ECF6",
          "polar": {
           "angularaxis": {
            "gridcolor": "white",
            "linecolor": "white",
            "ticks": ""
           },
           "bgcolor": "#E5ECF6",
           "radialaxis": {
            "gridcolor": "white",
            "linecolor": "white",
            "ticks": ""
           }
          },
          "scene": {
           "xaxis": {
            "backgroundcolor": "#E5ECF6",
            "gridcolor": "white",
            "gridwidth": 2,
            "linecolor": "white",
            "showbackground": true,
            "ticks": "",
            "zerolinecolor": "white"
           },
           "yaxis": {
            "backgroundcolor": "#E5ECF6",
            "gridcolor": "white",
            "gridwidth": 2,
            "linecolor": "white",
            "showbackground": true,
            "ticks": "",
            "zerolinecolor": "white"
           },
           "zaxis": {
            "backgroundcolor": "#E5ECF6",
            "gridcolor": "white",
            "gridwidth": 2,
            "linecolor": "white",
            "showbackground": true,
            "ticks": "",
            "zerolinecolor": "white"
           }
          },
          "shapedefaults": {
           "line": {
            "color": "#2a3f5f"
           }
          },
          "ternary": {
           "aaxis": {
            "gridcolor": "white",
            "linecolor": "white",
            "ticks": ""
           },
           "baxis": {
            "gridcolor": "white",
            "linecolor": "white",
            "ticks": ""
           },
           "bgcolor": "#E5ECF6",
           "caxis": {
            "gridcolor": "white",
            "linecolor": "white",
            "ticks": ""
           }
          },
          "title": {
           "x": 0.05
          },
          "xaxis": {
           "automargin": true,
           "gridcolor": "white",
           "linecolor": "white",
           "ticks": "",
           "title": {
            "standoff": 15
           },
           "zerolinecolor": "white",
           "zerolinewidth": 2
          },
          "yaxis": {
           "automargin": true,
           "gridcolor": "white",
           "linecolor": "white",
           "ticks": "",
           "title": {
            "standoff": 15
           },
           "zerolinecolor": "white",
           "zerolinewidth": 2
          }
         }
        },
        "title": {
         "text": "Lexicalrichness of all artist",
         "x": 0.5,
         "xanchor": "center",
         "y": 1,
         "yanchor": "top"
        },
        "xaxis": {
         "anchor": "y",
         "domain": [
          0,
          1
         ],
         "title": {
          "text": "name"
         }
        },
        "yaxis": {
         "anchor": "x",
         "domain": [
          0,
          1
         ],
         "title": {
          "text": "lexicalrichness"
         }
        }
       }
      },
      "text/html": [
       "<div>                            <div id=\"b4be6dfb-d1e0-4e25-806c-546db164eb79\" class=\"plotly-graph-div\" style=\"height:525px; width:100%;\"></div>            <script type=\"text/javascript\">                require([\"plotly\"], function(Plotly) {                    window.PLOTLYENV=window.PLOTLYENV || {};                                    if (document.getElementById(\"b4be6dfb-d1e0-4e25-806c-546db164eb79\")) {                    Plotly.newPlot(                        \"b4be6dfb-d1e0-4e25-806c-546db164eb79\",                        [{\"alignmentgroup\":\"True\",\"hovertemplate\":\"name=%{x}<br>lexicalrichness=%{y}<extra></extra>\",\"legendgroup\":\"\",\"marker\":{\"color\":\"#636efa\",\"pattern\":{\"shape\":\"\"}},\"name\":\"\",\"offsetgroup\":\"\",\"orientation\":\"v\",\"showlegend\":false,\"textposition\":\"auto\",\"x\":[\"ArianaGrande\",\"Beyonce\",\"BillieEilish\",\"EdSheeran\",\"JustinBieber\",\"KatyPerry\",\"LadyGaga\",\"Maroon5\",\"PostMalone\",\"Rihanna\",\"SelenaGomez\"],\"xaxis\":\"x\",\"y\":[25.725763662548324,26.154088545769653,40.833333333333336,24.075067024128685,20.108258749129106,27.306468716861083,25.07144106840847,23.83480062143967,28.5595491083803,17.50350802269538,34.61945031712473],\"yaxis\":\"y\",\"type\":\"bar\"}],                        {\"template\":{\"data\":{\"bar\":[{\"error_x\":{\"color\":\"#2a3f5f\"},\"error_y\":{\"color\":\"#2a3f5f\"},\"marker\":{\"line\":{\"color\":\"#E5ECF6\",\"width\":0.5},\"pattern\":{\"fillmode\":\"overlay\",\"size\":10,\"solidity\":0.2}},\"type\":\"bar\"}],\"barpolar\":[{\"marker\":{\"line\":{\"color\":\"#E5ECF6\",\"width\":0.5},\"pattern\":{\"fillmode\":\"overlay\",\"size\":10,\"solidity\":0.2}},\"type\":\"barpolar\"}],\"carpet\":[{\"aaxis\":{\"endlinecolor\":\"#2a3f5f\",\"gridcolor\":\"white\",\"linecolor\":\"white\",\"minorgridcolor\":\"white\",\"startlinecolor\":\"#2a3f5f\"},\"baxis\":{\"endlinecolor\":\"#2a3f5f\",\"gridcolor\":\"white\",\"linecolor\":\"white\",\"minorgridcolor\":\"white\",\"startlinecolor\":\"#2a3f5f\"},\"type\":\"carpet\"}],\"choropleth\":[{\"colorbar\":{\"outlinewidth\":0,\"ticks\":\"\"},\"type\":\"choropleth\"}],\"contour\":[{\"colorbar\":{\"outlinewidth\":0,\"ticks\":\"\"},\"colorscale\":[[0.0,\"#0d0887\"],[0.1111111111111111,\"#46039f\"],[0.2222222222222222,\"#7201a8\"],[0.3333333333333333,\"#9c179e\"],[0.4444444444444444,\"#bd3786\"],[0.5555555555555556,\"#d8576b\"],[0.6666666666666666,\"#ed7953\"],[0.7777777777777778,\"#fb9f3a\"],[0.8888888888888888,\"#fdca26\"],[1.0,\"#f0f921\"]],\"type\":\"contour\"}],\"contourcarpet\":[{\"colorbar\":{\"outlinewidth\":0,\"ticks\":\"\"},\"type\":\"contourcarpet\"}],\"heatmap\":[{\"colorbar\":{\"outlinewidth\":0,\"ticks\":\"\"},\"colorscale\":[[0.0,\"#0d0887\"],[0.1111111111111111,\"#46039f\"],[0.2222222222222222,\"#7201a8\"],[0.3333333333333333,\"#9c179e\"],[0.4444444444444444,\"#bd3786\"],[0.5555555555555556,\"#d8576b\"],[0.6666666666666666,\"#ed7953\"],[0.7777777777777778,\"#fb9f3a\"],[0.8888888888888888,\"#fdca26\"],[1.0,\"#f0f921\"]],\"type\":\"heatmap\"}],\"heatmapgl\":[{\"colorbar\":{\"outlinewidth\":0,\"ticks\":\"\"},\"colorscale\":[[0.0,\"#0d0887\"],[0.1111111111111111,\"#46039f\"],[0.2222222222222222,\"#7201a8\"],[0.3333333333333333,\"#9c179e\"],[0.4444444444444444,\"#bd3786\"],[0.5555555555555556,\"#d8576b\"],[0.6666666666666666,\"#ed7953\"],[0.7777777777777778,\"#fb9f3a\"],[0.8888888888888888,\"#fdca26\"],[1.0,\"#f0f921\"]],\"type\":\"heatmapgl\"}],\"histogram\":[{\"marker\":{\"pattern\":{\"fillmode\":\"overlay\",\"size\":10,\"solidity\":0.2}},\"type\":\"histogram\"}],\"histogram2d\":[{\"colorbar\":{\"outlinewidth\":0,\"ticks\":\"\"},\"colorscale\":[[0.0,\"#0d0887\"],[0.1111111111111111,\"#46039f\"],[0.2222222222222222,\"#7201a8\"],[0.3333333333333333,\"#9c179e\"],[0.4444444444444444,\"#bd3786\"],[0.5555555555555556,\"#d8576b\"],[0.6666666666666666,\"#ed7953\"],[0.7777777777777778,\"#fb9f3a\"],[0.8888888888888888,\"#fdca26\"],[1.0,\"#f0f921\"]],\"type\":\"histogram2d\"}],\"histogram2dcontour\":[{\"colorbar\":{\"outlinewidth\":0,\"ticks\":\"\"},\"colorscale\":[[0.0,\"#0d0887\"],[0.1111111111111111,\"#46039f\"],[0.2222222222222222,\"#7201a8\"],[0.3333333333333333,\"#9c179e\"],[0.4444444444444444,\"#bd3786\"],[0.5555555555555556,\"#d8576b\"],[0.6666666666666666,\"#ed7953\"],[0.7777777777777778,\"#fb9f3a\"],[0.8888888888888888,\"#fdca26\"],[1.0,\"#f0f921\"]],\"type\":\"histogram2dcontour\"}],\"mesh3d\":[{\"colorbar\":{\"outlinewidth\":0,\"ticks\":\"\"},\"type\":\"mesh3d\"}],\"parcoords\":[{\"line\":{\"colorbar\":{\"outlinewidth\":0,\"ticks\":\"\"}},\"type\":\"parcoords\"}],\"pie\":[{\"automargin\":true,\"type\":\"pie\"}],\"scatter\":[{\"marker\":{\"colorbar\":{\"outlinewidth\":0,\"ticks\":\"\"}},\"type\":\"scatter\"}],\"scatter3d\":[{\"line\":{\"colorbar\":{\"outlinewidth\":0,\"ticks\":\"\"}},\"marker\":{\"colorbar\":{\"outlinewidth\":0,\"ticks\":\"\"}},\"type\":\"scatter3d\"}],\"scattercarpet\":[{\"marker\":{\"colorbar\":{\"outlinewidth\":0,\"ticks\":\"\"}},\"type\":\"scattercarpet\"}],\"scattergeo\":[{\"marker\":{\"colorbar\":{\"outlinewidth\":0,\"ticks\":\"\"}},\"type\":\"scattergeo\"}],\"scattergl\":[{\"marker\":{\"colorbar\":{\"outlinewidth\":0,\"ticks\":\"\"}},\"type\":\"scattergl\"}],\"scattermapbox\":[{\"marker\":{\"colorbar\":{\"outlinewidth\":0,\"ticks\":\"\"}},\"type\":\"scattermapbox\"}],\"scatterpolar\":[{\"marker\":{\"colorbar\":{\"outlinewidth\":0,\"ticks\":\"\"}},\"type\":\"scatterpolar\"}],\"scatterpolargl\":[{\"marker\":{\"colorbar\":{\"outlinewidth\":0,\"ticks\":\"\"}},\"type\":\"scatterpolargl\"}],\"scatterternary\":[{\"marker\":{\"colorbar\":{\"outlinewidth\":0,\"ticks\":\"\"}},\"type\":\"scatterternary\"}],\"surface\":[{\"colorbar\":{\"outlinewidth\":0,\"ticks\":\"\"},\"colorscale\":[[0.0,\"#0d0887\"],[0.1111111111111111,\"#46039f\"],[0.2222222222222222,\"#7201a8\"],[0.3333333333333333,\"#9c179e\"],[0.4444444444444444,\"#bd3786\"],[0.5555555555555556,\"#d8576b\"],[0.6666666666666666,\"#ed7953\"],[0.7777777777777778,\"#fb9f3a\"],[0.8888888888888888,\"#fdca26\"],[1.0,\"#f0f921\"]],\"type\":\"surface\"}],\"table\":[{\"cells\":{\"fill\":{\"color\":\"#EBF0F8\"},\"line\":{\"color\":\"white\"}},\"header\":{\"fill\":{\"color\":\"#C8D4E3\"},\"line\":{\"color\":\"white\"}},\"type\":\"table\"}]},\"layout\":{\"annotationdefaults\":{\"arrowcolor\":\"#2a3f5f\",\"arrowhead\":0,\"arrowwidth\":1},\"autotypenumbers\":\"strict\",\"coloraxis\":{\"colorbar\":{\"outlinewidth\":0,\"ticks\":\"\"}},\"colorscale\":{\"diverging\":[[0,\"#8e0152\"],[0.1,\"#c51b7d\"],[0.2,\"#de77ae\"],[0.3,\"#f1b6da\"],[0.4,\"#fde0ef\"],[0.5,\"#f7f7f7\"],[0.6,\"#e6f5d0\"],[0.7,\"#b8e186\"],[0.8,\"#7fbc41\"],[0.9,\"#4d9221\"],[1,\"#276419\"]],\"sequential\":[[0.0,\"#0d0887\"],[0.1111111111111111,\"#46039f\"],[0.2222222222222222,\"#7201a8\"],[0.3333333333333333,\"#9c179e\"],[0.4444444444444444,\"#bd3786\"],[0.5555555555555556,\"#d8576b\"],[0.6666666666666666,\"#ed7953\"],[0.7777777777777778,\"#fb9f3a\"],[0.8888888888888888,\"#fdca26\"],[1.0,\"#f0f921\"]],\"sequentialminus\":[[0.0,\"#0d0887\"],[0.1111111111111111,\"#46039f\"],[0.2222222222222222,\"#7201a8\"],[0.3333333333333333,\"#9c179e\"],[0.4444444444444444,\"#bd3786\"],[0.5555555555555556,\"#d8576b\"],[0.6666666666666666,\"#ed7953\"],[0.7777777777777778,\"#fb9f3a\"],[0.8888888888888888,\"#fdca26\"],[1.0,\"#f0f921\"]]},\"colorway\":[\"#636efa\",\"#EF553B\",\"#00cc96\",\"#ab63fa\",\"#FFA15A\",\"#19d3f3\",\"#FF6692\",\"#B6E880\",\"#FF97FF\",\"#FECB52\"],\"font\":{\"color\":\"#2a3f5f\"},\"geo\":{\"bgcolor\":\"white\",\"lakecolor\":\"white\",\"landcolor\":\"#E5ECF6\",\"showlakes\":true,\"showland\":true,\"subunitcolor\":\"white\"},\"hoverlabel\":{\"align\":\"left\"},\"hovermode\":\"closest\",\"mapbox\":{\"style\":\"light\"},\"paper_bgcolor\":\"white\",\"plot_bgcolor\":\"#E5ECF6\",\"polar\":{\"angularaxis\":{\"gridcolor\":\"white\",\"linecolor\":\"white\",\"ticks\":\"\"},\"bgcolor\":\"#E5ECF6\",\"radialaxis\":{\"gridcolor\":\"white\",\"linecolor\":\"white\",\"ticks\":\"\"}},\"scene\":{\"xaxis\":{\"backgroundcolor\":\"#E5ECF6\",\"gridcolor\":\"white\",\"gridwidth\":2,\"linecolor\":\"white\",\"showbackground\":true,\"ticks\":\"\",\"zerolinecolor\":\"white\"},\"yaxis\":{\"backgroundcolor\":\"#E5ECF6\",\"gridcolor\":\"white\",\"gridwidth\":2,\"linecolor\":\"white\",\"showbackground\":true,\"ticks\":\"\",\"zerolinecolor\":\"white\"},\"zaxis\":{\"backgroundcolor\":\"#E5ECF6\",\"gridcolor\":\"white\",\"gridwidth\":2,\"linecolor\":\"white\",\"showbackground\":true,\"ticks\":\"\",\"zerolinecolor\":\"white\"}},\"shapedefaults\":{\"line\":{\"color\":\"#2a3f5f\"}},\"ternary\":{\"aaxis\":{\"gridcolor\":\"white\",\"linecolor\":\"white\",\"ticks\":\"\"},\"baxis\":{\"gridcolor\":\"white\",\"linecolor\":\"white\",\"ticks\":\"\"},\"bgcolor\":\"#E5ECF6\",\"caxis\":{\"gridcolor\":\"white\",\"linecolor\":\"white\",\"ticks\":\"\"}},\"title\":{\"x\":0.05},\"xaxis\":{\"automargin\":true,\"gridcolor\":\"white\",\"linecolor\":\"white\",\"ticks\":\"\",\"title\":{\"standoff\":15},\"zerolinecolor\":\"white\",\"zerolinewidth\":2},\"yaxis\":{\"automargin\":true,\"gridcolor\":\"white\",\"linecolor\":\"white\",\"ticks\":\"\",\"title\":{\"standoff\":15},\"zerolinecolor\":\"white\",\"zerolinewidth\":2}}},\"xaxis\":{\"anchor\":\"y\",\"domain\":[0.0,1.0],\"title\":{\"text\":\"name\"}},\"yaxis\":{\"anchor\":\"x\",\"domain\":[0.0,1.0],\"title\":{\"text\":\"lexicalrichness\"}},\"legend\":{\"tracegroupgap\":0},\"margin\":{\"t\":60},\"barmode\":\"relative\",\"title\":{\"text\":\"Lexicalrichness of all artist\",\"y\":1,\"x\":0.5,\"xanchor\":\"center\",\"yanchor\":\"top\"}},                        {\"responsive\": true}                    ).then(function(){\n",
       "                            \n",
       "var gd = document.getElementById('b4be6dfb-d1e0-4e25-806c-546db164eb79');\n",
       "var x = new MutationObserver(function (mutations, observer) {{\n",
       "        var display = window.getComputedStyle(gd).display;\n",
       "        if (!display || display === 'none') {{\n",
       "            console.log([gd, 'removed!']);\n",
       "            Plotly.purge(gd);\n",
       "            observer.disconnect();\n",
       "        }}\n",
       "}});\n",
       "\n",
       "// Listen for the removal of the full notebook cells\n",
       "var notebookContainer = gd.closest('#notebook-container');\n",
       "if (notebookContainer) {{\n",
       "    x.observe(notebookContainer, {childList: true});\n",
       "}}\n",
       "\n",
       "// Listen for the clearing of the current output cell\n",
       "var outputEl = gd.closest('.output');\n",
       "if (outputEl) {{\n",
       "    x.observe(outputEl, {childList: true});\n",
       "}}\n",
       "\n",
       "                        })                };                });            </script>        </div>"
      ]
     },
     "metadata": {},
     "output_type": "display_data"
    }
   ],
   "source": [
    "print(df_info[df_info.lexicalrichness == max(df_info['lexicalrichness'])].loc[:,'name'])\n",
    "print(max(df_info['lexicalrichness']))\n",
    "fig = px.bar(df_info, x='name',y='lexicalrichness')\n",
    "fig.update_layout(title={'text': \"Lexicalrichness of all artist\",'y':1,'x':0.5,'xanchor': 'center','yanchor': 'top'})\n",
    "fig.show()"
   ]
  },
  {
   "cell_type": "markdown",
   "id": "smart-series",
   "metadata": {
    "papermill": {
     "duration": 0.02418,
     "end_time": "2021-05-15T20:04:29.825062",
     "exception": false,
     "start_time": "2021-05-15T20:04:29.800882",
     "status": "completed"
    },
    "tags": []
   },
   "source": [
    "* Now dividing the mail data frame to visualize how many songs artist sings over a year"
   ]
  },
  {
   "cell_type": "code",
   "execution_count": 20,
   "id": "false-attraction",
   "metadata": {
    "execution": {
     "iopub.execute_input": "2021-05-15T20:04:29.882715Z",
     "iopub.status.busy": "2021-05-15T20:04:29.880268Z",
     "iopub.status.idle": "2021-05-15T20:04:29.901659Z",
     "shell.execute_reply": "2021-05-15T20:04:29.900994Z"
    },
    "papermill": {
     "duration": 0.05244,
     "end_time": "2021-05-15T20:04:29.901798",
     "exception": false,
     "start_time": "2021-05-15T20:04:29.849358",
     "status": "completed"
    },
    "tags": []
   },
   "outputs": [
    {
     "data": {
      "text/html": [
       "<div>\n",
       "<style scoped>\n",
       "    .dataframe tbody tr th:only-of-type {\n",
       "        vertical-align: middle;\n",
       "    }\n",
       "\n",
       "    .dataframe tbody tr th {\n",
       "        vertical-align: top;\n",
       "    }\n",
       "\n",
       "    .dataframe thead th {\n",
       "        text-align: right;\n",
       "    }\n",
       "</style>\n",
       "<table border=\"1\" class=\"dataframe\">\n",
       "  <thead>\n",
       "    <tr style=\"text-align: right;\">\n",
       "      <th></th>\n",
       "      <th>Artist</th>\n",
       "      <th>Year</th>\n",
       "      <th>Title</th>\n",
       "      <th>Album</th>\n",
       "    </tr>\n",
       "  </thead>\n",
       "  <tbody>\n",
       "    <tr>\n",
       "      <th>0</th>\n",
       "      <td>Ariana Grande</td>\n",
       "      <td>2008</td>\n",
       "      <td>3</td>\n",
       "      <td>3</td>\n",
       "    </tr>\n",
       "    <tr>\n",
       "      <th>1</th>\n",
       "      <td>Ariana Grande</td>\n",
       "      <td>2009</td>\n",
       "      <td>2</td>\n",
       "      <td>1</td>\n",
       "    </tr>\n",
       "    <tr>\n",
       "      <th>2</th>\n",
       "      <td>Ariana Grande</td>\n",
       "      <td>2010</td>\n",
       "      <td>4</td>\n",
       "      <td>2</td>\n",
       "    </tr>\n",
       "    <tr>\n",
       "      <th>3</th>\n",
       "      <td>Ariana Grande</td>\n",
       "      <td>2011</td>\n",
       "      <td>6</td>\n",
       "      <td>1</td>\n",
       "    </tr>\n",
       "    <tr>\n",
       "      <th>4</th>\n",
       "      <td>Ariana Grande</td>\n",
       "      <td>2012</td>\n",
       "      <td>4</td>\n",
       "      <td>2</td>\n",
       "    </tr>\n",
       "    <tr>\n",
       "      <th>...</th>\n",
       "      <td>...</td>\n",
       "      <td>...</td>\n",
       "      <td>...</td>\n",
       "      <td>...</td>\n",
       "    </tr>\n",
       "    <tr>\n",
       "      <th>162</th>\n",
       "      <td>Selena Gomez</td>\n",
       "      <td>2018</td>\n",
       "      <td>3</td>\n",
       "      <td>1</td>\n",
       "    </tr>\n",
       "    <tr>\n",
       "      <th>163</th>\n",
       "      <td>Selena Gomez</td>\n",
       "      <td>2019</td>\n",
       "      <td>4</td>\n",
       "      <td>2</td>\n",
       "    </tr>\n",
       "    <tr>\n",
       "      <th>164</th>\n",
       "      <td>Selena Gomez</td>\n",
       "      <td>2020</td>\n",
       "      <td>14</td>\n",
       "      <td>14</td>\n",
       "    </tr>\n",
       "    <tr>\n",
       "      <th>165</th>\n",
       "      <td>Selena Gomez</td>\n",
       "      <td>2021</td>\n",
       "      <td>6</td>\n",
       "      <td>1</td>\n",
       "    </tr>\n",
       "    <tr>\n",
       "      <th>166</th>\n",
       "      <td>Selena Gomez</td>\n",
       "      <td>nan</td>\n",
       "      <td>23</td>\n",
       "      <td>13</td>\n",
       "    </tr>\n",
       "  </tbody>\n",
       "</table>\n",
       "<p>167 rows × 4 columns</p>\n",
       "</div>"
      ],
      "text/plain": [
       "            Artist  Year  Title  Album\n",
       "0    Ariana Grande  2008      3      3\n",
       "1    Ariana Grande  2009      2      1\n",
       "2    Ariana Grande  2010      4      2\n",
       "3    Ariana Grande  2011      6      1\n",
       "4    Ariana Grande  2012      4      2\n",
       "..             ...   ...    ...    ...\n",
       "162   Selena Gomez  2018      3      1\n",
       "163   Selena Gomez  2019      4      2\n",
       "164   Selena Gomez  2020     14     14\n",
       "165   Selena Gomez  2021      6      1\n",
       "166   Selena Gomez   nan     23     13\n",
       "\n",
       "[167 rows x 4 columns]"
      ]
     },
     "execution_count": 20,
     "metadata": {},
     "output_type": "execute_result"
    }
   ],
   "source": [
    "df_group=df_main.groupby(['Artist','Year']).count().iloc[:,0:2]\n",
    "#df_group=df_group.drop(\"Unnamed: 0\",axis=1)\n",
    "df_group =df_group.reset_index()\n",
    "df_group"
   ]
  },
  {
   "cell_type": "code",
   "execution_count": 21,
   "id": "crucial-implementation",
   "metadata": {
    "execution": {
     "iopub.execute_input": "2021-05-15T20:04:29.963573Z",
     "iopub.status.busy": "2021-05-15T20:04:29.962628Z",
     "iopub.status.idle": "2021-05-15T20:04:30.046535Z",
     "shell.execute_reply": "2021-05-15T20:04:30.045858Z"
    },
    "papermill": {
     "duration": 0.119812,
     "end_time": "2021-05-15T20:04:30.046683",
     "exception": false,
     "start_time": "2021-05-15T20:04:29.926871",
     "status": "completed"
    },
    "tags": []
   },
   "outputs": [
    {
     "data": {
      "application/vnd.plotly.v1+json": {
       "config": {
        "plotlyServerURL": "https://plot.ly"
       },
       "data": [
        {
         "hovertemplate": "Year=%{x}<br>Title=%{y}<extra></extra>",
         "legendgroup": "",
         "line": {
          "color": "#636efa",
          "dash": "solid"
         },
         "marker": {
          "symbol": "circle"
         },
         "mode": "lines",
         "name": "",
         "orientation": "v",
         "showlegend": false,
         "type": "scatter",
         "x": [
          "0001",
          "2001",
          "2002",
          "2003",
          "2004",
          "2005",
          "2006",
          "2007",
          "2008",
          "2009",
          "2010",
          "2011",
          "2012",
          "2013",
          "2014",
          "2015",
          "2016",
          "2017",
          "2018",
          "2019",
          "2020",
          "2021",
          "2022",
          "None",
          "nan"
         ],
         "xaxis": "x",
         "y": [
          2,
          1,
          2,
          1,
          3,
          4,
          3,
          6,
          9,
          9,
          9,
          9,
          8,
          10,
          9,
          11,
          11,
          10,
          10,
          11,
          10,
          6,
          2,
          1,
          10
         ],
         "yaxis": "y"
        }
       ],
       "layout": {
        "legend": {
         "tracegroupgap": 0
        },
        "margin": {
         "t": 60
        },
        "template": {
         "data": {
          "bar": [
           {
            "error_x": {
             "color": "#2a3f5f"
            },
            "error_y": {
             "color": "#2a3f5f"
            },
            "marker": {
             "line": {
              "color": "#E5ECF6",
              "width": 0.5
             },
             "pattern": {
              "fillmode": "overlay",
              "size": 10,
              "solidity": 0.2
             }
            },
            "type": "bar"
           }
          ],
          "barpolar": [
           {
            "marker": {
             "line": {
              "color": "#E5ECF6",
              "width": 0.5
             },
             "pattern": {
              "fillmode": "overlay",
              "size": 10,
              "solidity": 0.2
             }
            },
            "type": "barpolar"
           }
          ],
          "carpet": [
           {
            "aaxis": {
             "endlinecolor": "#2a3f5f",
             "gridcolor": "white",
             "linecolor": "white",
             "minorgridcolor": "white",
             "startlinecolor": "#2a3f5f"
            },
            "baxis": {
             "endlinecolor": "#2a3f5f",
             "gridcolor": "white",
             "linecolor": "white",
             "minorgridcolor": "white",
             "startlinecolor": "#2a3f5f"
            },
            "type": "carpet"
           }
          ],
          "choropleth": [
           {
            "colorbar": {
             "outlinewidth": 0,
             "ticks": ""
            },
            "type": "choropleth"
           }
          ],
          "contour": [
           {
            "colorbar": {
             "outlinewidth": 0,
             "ticks": ""
            },
            "colorscale": [
             [
              0,
              "#0d0887"
             ],
             [
              0.1111111111111111,
              "#46039f"
             ],
             [
              0.2222222222222222,
              "#7201a8"
             ],
             [
              0.3333333333333333,
              "#9c179e"
             ],
             [
              0.4444444444444444,
              "#bd3786"
             ],
             [
              0.5555555555555556,
              "#d8576b"
             ],
             [
              0.6666666666666666,
              "#ed7953"
             ],
             [
              0.7777777777777778,
              "#fb9f3a"
             ],
             [
              0.8888888888888888,
              "#fdca26"
             ],
             [
              1,
              "#f0f921"
             ]
            ],
            "type": "contour"
           }
          ],
          "contourcarpet": [
           {
            "colorbar": {
             "outlinewidth": 0,
             "ticks": ""
            },
            "type": "contourcarpet"
           }
          ],
          "heatmap": [
           {
            "colorbar": {
             "outlinewidth": 0,
             "ticks": ""
            },
            "colorscale": [
             [
              0,
              "#0d0887"
             ],
             [
              0.1111111111111111,
              "#46039f"
             ],
             [
              0.2222222222222222,
              "#7201a8"
             ],
             [
              0.3333333333333333,
              "#9c179e"
             ],
             [
              0.4444444444444444,
              "#bd3786"
             ],
             [
              0.5555555555555556,
              "#d8576b"
             ],
             [
              0.6666666666666666,
              "#ed7953"
             ],
             [
              0.7777777777777778,
              "#fb9f3a"
             ],
             [
              0.8888888888888888,
              "#fdca26"
             ],
             [
              1,
              "#f0f921"
             ]
            ],
            "type": "heatmap"
           }
          ],
          "heatmapgl": [
           {
            "colorbar": {
             "outlinewidth": 0,
             "ticks": ""
            },
            "colorscale": [
             [
              0,
              "#0d0887"
             ],
             [
              0.1111111111111111,
              "#46039f"
             ],
             [
              0.2222222222222222,
              "#7201a8"
             ],
             [
              0.3333333333333333,
              "#9c179e"
             ],
             [
              0.4444444444444444,
              "#bd3786"
             ],
             [
              0.5555555555555556,
              "#d8576b"
             ],
             [
              0.6666666666666666,
              "#ed7953"
             ],
             [
              0.7777777777777778,
              "#fb9f3a"
             ],
             [
              0.8888888888888888,
              "#fdca26"
             ],
             [
              1,
              "#f0f921"
             ]
            ],
            "type": "heatmapgl"
           }
          ],
          "histogram": [
           {
            "marker": {
             "pattern": {
              "fillmode": "overlay",
              "size": 10,
              "solidity": 0.2
             }
            },
            "type": "histogram"
           }
          ],
          "histogram2d": [
           {
            "colorbar": {
             "outlinewidth": 0,
             "ticks": ""
            },
            "colorscale": [
             [
              0,
              "#0d0887"
             ],
             [
              0.1111111111111111,
              "#46039f"
             ],
             [
              0.2222222222222222,
              "#7201a8"
             ],
             [
              0.3333333333333333,
              "#9c179e"
             ],
             [
              0.4444444444444444,
              "#bd3786"
             ],
             [
              0.5555555555555556,
              "#d8576b"
             ],
             [
              0.6666666666666666,
              "#ed7953"
             ],
             [
              0.7777777777777778,
              "#fb9f3a"
             ],
             [
              0.8888888888888888,
              "#fdca26"
             ],
             [
              1,
              "#f0f921"
             ]
            ],
            "type": "histogram2d"
           }
          ],
          "histogram2dcontour": [
           {
            "colorbar": {
             "outlinewidth": 0,
             "ticks": ""
            },
            "colorscale": [
             [
              0,
              "#0d0887"
             ],
             [
              0.1111111111111111,
              "#46039f"
             ],
             [
              0.2222222222222222,
              "#7201a8"
             ],
             [
              0.3333333333333333,
              "#9c179e"
             ],
             [
              0.4444444444444444,
              "#bd3786"
             ],
             [
              0.5555555555555556,
              "#d8576b"
             ],
             [
              0.6666666666666666,
              "#ed7953"
             ],
             [
              0.7777777777777778,
              "#fb9f3a"
             ],
             [
              0.8888888888888888,
              "#fdca26"
             ],
             [
              1,
              "#f0f921"
             ]
            ],
            "type": "histogram2dcontour"
           }
          ],
          "mesh3d": [
           {
            "colorbar": {
             "outlinewidth": 0,
             "ticks": ""
            },
            "type": "mesh3d"
           }
          ],
          "parcoords": [
           {
            "line": {
             "colorbar": {
              "outlinewidth": 0,
              "ticks": ""
             }
            },
            "type": "parcoords"
           }
          ],
          "pie": [
           {
            "automargin": true,
            "type": "pie"
           }
          ],
          "scatter": [
           {
            "marker": {
             "colorbar": {
              "outlinewidth": 0,
              "ticks": ""
             }
            },
            "type": "scatter"
           }
          ],
          "scatter3d": [
           {
            "line": {
             "colorbar": {
              "outlinewidth": 0,
              "ticks": ""
             }
            },
            "marker": {
             "colorbar": {
              "outlinewidth": 0,
              "ticks": ""
             }
            },
            "type": "scatter3d"
           }
          ],
          "scattercarpet": [
           {
            "marker": {
             "colorbar": {
              "outlinewidth": 0,
              "ticks": ""
             }
            },
            "type": "scattercarpet"
           }
          ],
          "scattergeo": [
           {
            "marker": {
             "colorbar": {
              "outlinewidth": 0,
              "ticks": ""
             }
            },
            "type": "scattergeo"
           }
          ],
          "scattergl": [
           {
            "marker": {
             "colorbar": {
              "outlinewidth": 0,
              "ticks": ""
             }
            },
            "type": "scattergl"
           }
          ],
          "scattermapbox": [
           {
            "marker": {
             "colorbar": {
              "outlinewidth": 0,
              "ticks": ""
             }
            },
            "type": "scattermapbox"
           }
          ],
          "scatterpolar": [
           {
            "marker": {
             "colorbar": {
              "outlinewidth": 0,
              "ticks": ""
             }
            },
            "type": "scatterpolar"
           }
          ],
          "scatterpolargl": [
           {
            "marker": {
             "colorbar": {
              "outlinewidth": 0,
              "ticks": ""
             }
            },
            "type": "scatterpolargl"
           }
          ],
          "scatterternary": [
           {
            "marker": {
             "colorbar": {
              "outlinewidth": 0,
              "ticks": ""
             }
            },
            "type": "scatterternary"
           }
          ],
          "surface": [
           {
            "colorbar": {
             "outlinewidth": 0,
             "ticks": ""
            },
            "colorscale": [
             [
              0,
              "#0d0887"
             ],
             [
              0.1111111111111111,
              "#46039f"
             ],
             [
              0.2222222222222222,
              "#7201a8"
             ],
             [
              0.3333333333333333,
              "#9c179e"
             ],
             [
              0.4444444444444444,
              "#bd3786"
             ],
             [
              0.5555555555555556,
              "#d8576b"
             ],
             [
              0.6666666666666666,
              "#ed7953"
             ],
             [
              0.7777777777777778,
              "#fb9f3a"
             ],
             [
              0.8888888888888888,
              "#fdca26"
             ],
             [
              1,
              "#f0f921"
             ]
            ],
            "type": "surface"
           }
          ],
          "table": [
           {
            "cells": {
             "fill": {
              "color": "#EBF0F8"
             },
             "line": {
              "color": "white"
             }
            },
            "header": {
             "fill": {
              "color": "#C8D4E3"
             },
             "line": {
              "color": "white"
             }
            },
            "type": "table"
           }
          ]
         },
         "layout": {
          "annotationdefaults": {
           "arrowcolor": "#2a3f5f",
           "arrowhead": 0,
           "arrowwidth": 1
          },
          "autotypenumbers": "strict",
          "coloraxis": {
           "colorbar": {
            "outlinewidth": 0,
            "ticks": ""
           }
          },
          "colorscale": {
           "diverging": [
            [
             0,
             "#8e0152"
            ],
            [
             0.1,
             "#c51b7d"
            ],
            [
             0.2,
             "#de77ae"
            ],
            [
             0.3,
             "#f1b6da"
            ],
            [
             0.4,
             "#fde0ef"
            ],
            [
             0.5,
             "#f7f7f7"
            ],
            [
             0.6,
             "#e6f5d0"
            ],
            [
             0.7,
             "#b8e186"
            ],
            [
             0.8,
             "#7fbc41"
            ],
            [
             0.9,
             "#4d9221"
            ],
            [
             1,
             "#276419"
            ]
           ],
           "sequential": [
            [
             0,
             "#0d0887"
            ],
            [
             0.1111111111111111,
             "#46039f"
            ],
            [
             0.2222222222222222,
             "#7201a8"
            ],
            [
             0.3333333333333333,
             "#9c179e"
            ],
            [
             0.4444444444444444,
             "#bd3786"
            ],
            [
             0.5555555555555556,
             "#d8576b"
            ],
            [
             0.6666666666666666,
             "#ed7953"
            ],
            [
             0.7777777777777778,
             "#fb9f3a"
            ],
            [
             0.8888888888888888,
             "#fdca26"
            ],
            [
             1,
             "#f0f921"
            ]
           ],
           "sequentialminus": [
            [
             0,
             "#0d0887"
            ],
            [
             0.1111111111111111,
             "#46039f"
            ],
            [
             0.2222222222222222,
             "#7201a8"
            ],
            [
             0.3333333333333333,
             "#9c179e"
            ],
            [
             0.4444444444444444,
             "#bd3786"
            ],
            [
             0.5555555555555556,
             "#d8576b"
            ],
            [
             0.6666666666666666,
             "#ed7953"
            ],
            [
             0.7777777777777778,
             "#fb9f3a"
            ],
            [
             0.8888888888888888,
             "#fdca26"
            ],
            [
             1,
             "#f0f921"
            ]
           ]
          },
          "colorway": [
           "#636efa",
           "#EF553B",
           "#00cc96",
           "#ab63fa",
           "#FFA15A",
           "#19d3f3",
           "#FF6692",
           "#B6E880",
           "#FF97FF",
           "#FECB52"
          ],
          "font": {
           "color": "#2a3f5f"
          },
          "geo": {
           "bgcolor": "white",
           "lakecolor": "white",
           "landcolor": "#E5ECF6",
           "showlakes": true,
           "showland": true,
           "subunitcolor": "white"
          },
          "hoverlabel": {
           "align": "left"
          },
          "hovermode": "closest",
          "mapbox": {
           "style": "light"
          },
          "paper_bgcolor": "white",
          "plot_bgcolor": "#E5ECF6",
          "polar": {
           "angularaxis": {
            "gridcolor": "white",
            "linecolor": "white",
            "ticks": ""
           },
           "bgcolor": "#E5ECF6",
           "radialaxis": {
            "gridcolor": "white",
            "linecolor": "white",
            "ticks": ""
           }
          },
          "scene": {
           "xaxis": {
            "backgroundcolor": "#E5ECF6",
            "gridcolor": "white",
            "gridwidth": 2,
            "linecolor": "white",
            "showbackground": true,
            "ticks": "",
            "zerolinecolor": "white"
           },
           "yaxis": {
            "backgroundcolor": "#E5ECF6",
            "gridcolor": "white",
            "gridwidth": 2,
            "linecolor": "white",
            "showbackground": true,
            "ticks": "",
            "zerolinecolor": "white"
           },
           "zaxis": {
            "backgroundcolor": "#E5ECF6",
            "gridcolor": "white",
            "gridwidth": 2,
            "linecolor": "white",
            "showbackground": true,
            "ticks": "",
            "zerolinecolor": "white"
           }
          },
          "shapedefaults": {
           "line": {
            "color": "#2a3f5f"
           }
          },
          "ternary": {
           "aaxis": {
            "gridcolor": "white",
            "linecolor": "white",
            "ticks": ""
           },
           "baxis": {
            "gridcolor": "white",
            "linecolor": "white",
            "ticks": ""
           },
           "bgcolor": "#E5ECF6",
           "caxis": {
            "gridcolor": "white",
            "linecolor": "white",
            "ticks": ""
           }
          },
          "title": {
           "x": 0.05
          },
          "xaxis": {
           "automargin": true,
           "gridcolor": "white",
           "linecolor": "white",
           "ticks": "",
           "title": {
            "standoff": 15
           },
           "zerolinecolor": "white",
           "zerolinewidth": 2
          },
          "yaxis": {
           "automargin": true,
           "gridcolor": "white",
           "linecolor": "white",
           "ticks": "",
           "title": {
            "standoff": 15
           },
           "zerolinecolor": "white",
           "zerolinewidth": 2
          }
         }
        },
        "title": {
         "text": "No. of Titles by all artist from 2001-2021",
         "x": 0.5,
         "xanchor": "center",
         "y": 0.95,
         "yanchor": "top"
        },
        "xaxis": {
         "anchor": "y",
         "domain": [
          0,
          1
         ],
         "title": {
          "text": "Year"
         }
        },
        "yaxis": {
         "anchor": "x",
         "domain": [
          0,
          1
         ],
         "title": {
          "text": "Title"
         }
        }
       }
      },
      "text/html": [
       "<div>                            <div id=\"516d7d33-d2ff-4059-b48a-9a05c90f1f06\" class=\"plotly-graph-div\" style=\"height:525px; width:100%;\"></div>            <script type=\"text/javascript\">                require([\"plotly\"], function(Plotly) {                    window.PLOTLYENV=window.PLOTLYENV || {};                                    if (document.getElementById(\"516d7d33-d2ff-4059-b48a-9a05c90f1f06\")) {                    Plotly.newPlot(                        \"516d7d33-d2ff-4059-b48a-9a05c90f1f06\",                        [{\"hovertemplate\":\"Year=%{x}<br>Title=%{y}<extra></extra>\",\"legendgroup\":\"\",\"line\":{\"color\":\"#636efa\",\"dash\":\"solid\"},\"marker\":{\"symbol\":\"circle\"},\"mode\":\"lines\",\"name\":\"\",\"orientation\":\"v\",\"showlegend\":false,\"x\":[\"0001\",\"2001\",\"2002\",\"2003\",\"2004\",\"2005\",\"2006\",\"2007\",\"2008\",\"2009\",\"2010\",\"2011\",\"2012\",\"2013\",\"2014\",\"2015\",\"2016\",\"2017\",\"2018\",\"2019\",\"2020\",\"2021\",\"2022\",\"None\",\"nan\"],\"xaxis\":\"x\",\"y\":[2,1,2,1,3,4,3,6,9,9,9,9,8,10,9,11,11,10,10,11,10,6,2,1,10],\"yaxis\":\"y\",\"type\":\"scatter\"}],                        {\"template\":{\"data\":{\"bar\":[{\"error_x\":{\"color\":\"#2a3f5f\"},\"error_y\":{\"color\":\"#2a3f5f\"},\"marker\":{\"line\":{\"color\":\"#E5ECF6\",\"width\":0.5},\"pattern\":{\"fillmode\":\"overlay\",\"size\":10,\"solidity\":0.2}},\"type\":\"bar\"}],\"barpolar\":[{\"marker\":{\"line\":{\"color\":\"#E5ECF6\",\"width\":0.5},\"pattern\":{\"fillmode\":\"overlay\",\"size\":10,\"solidity\":0.2}},\"type\":\"barpolar\"}],\"carpet\":[{\"aaxis\":{\"endlinecolor\":\"#2a3f5f\",\"gridcolor\":\"white\",\"linecolor\":\"white\",\"minorgridcolor\":\"white\",\"startlinecolor\":\"#2a3f5f\"},\"baxis\":{\"endlinecolor\":\"#2a3f5f\",\"gridcolor\":\"white\",\"linecolor\":\"white\",\"minorgridcolor\":\"white\",\"startlinecolor\":\"#2a3f5f\"},\"type\":\"carpet\"}],\"choropleth\":[{\"colorbar\":{\"outlinewidth\":0,\"ticks\":\"\"},\"type\":\"choropleth\"}],\"contour\":[{\"colorbar\":{\"outlinewidth\":0,\"ticks\":\"\"},\"colorscale\":[[0.0,\"#0d0887\"],[0.1111111111111111,\"#46039f\"],[0.2222222222222222,\"#7201a8\"],[0.3333333333333333,\"#9c179e\"],[0.4444444444444444,\"#bd3786\"],[0.5555555555555556,\"#d8576b\"],[0.6666666666666666,\"#ed7953\"],[0.7777777777777778,\"#fb9f3a\"],[0.8888888888888888,\"#fdca26\"],[1.0,\"#f0f921\"]],\"type\":\"contour\"}],\"contourcarpet\":[{\"colorbar\":{\"outlinewidth\":0,\"ticks\":\"\"},\"type\":\"contourcarpet\"}],\"heatmap\":[{\"colorbar\":{\"outlinewidth\":0,\"ticks\":\"\"},\"colorscale\":[[0.0,\"#0d0887\"],[0.1111111111111111,\"#46039f\"],[0.2222222222222222,\"#7201a8\"],[0.3333333333333333,\"#9c179e\"],[0.4444444444444444,\"#bd3786\"],[0.5555555555555556,\"#d8576b\"],[0.6666666666666666,\"#ed7953\"],[0.7777777777777778,\"#fb9f3a\"],[0.8888888888888888,\"#fdca26\"],[1.0,\"#f0f921\"]],\"type\":\"heatmap\"}],\"heatmapgl\":[{\"colorbar\":{\"outlinewidth\":0,\"ticks\":\"\"},\"colorscale\":[[0.0,\"#0d0887\"],[0.1111111111111111,\"#46039f\"],[0.2222222222222222,\"#7201a8\"],[0.3333333333333333,\"#9c179e\"],[0.4444444444444444,\"#bd3786\"],[0.5555555555555556,\"#d8576b\"],[0.6666666666666666,\"#ed7953\"],[0.7777777777777778,\"#fb9f3a\"],[0.8888888888888888,\"#fdca26\"],[1.0,\"#f0f921\"]],\"type\":\"heatmapgl\"}],\"histogram\":[{\"marker\":{\"pattern\":{\"fillmode\":\"overlay\",\"size\":10,\"solidity\":0.2}},\"type\":\"histogram\"}],\"histogram2d\":[{\"colorbar\":{\"outlinewidth\":0,\"ticks\":\"\"},\"colorscale\":[[0.0,\"#0d0887\"],[0.1111111111111111,\"#46039f\"],[0.2222222222222222,\"#7201a8\"],[0.3333333333333333,\"#9c179e\"],[0.4444444444444444,\"#bd3786\"],[0.5555555555555556,\"#d8576b\"],[0.6666666666666666,\"#ed7953\"],[0.7777777777777778,\"#fb9f3a\"],[0.8888888888888888,\"#fdca26\"],[1.0,\"#f0f921\"]],\"type\":\"histogram2d\"}],\"histogram2dcontour\":[{\"colorbar\":{\"outlinewidth\":0,\"ticks\":\"\"},\"colorscale\":[[0.0,\"#0d0887\"],[0.1111111111111111,\"#46039f\"],[0.2222222222222222,\"#7201a8\"],[0.3333333333333333,\"#9c179e\"],[0.4444444444444444,\"#bd3786\"],[0.5555555555555556,\"#d8576b\"],[0.6666666666666666,\"#ed7953\"],[0.7777777777777778,\"#fb9f3a\"],[0.8888888888888888,\"#fdca26\"],[1.0,\"#f0f921\"]],\"type\":\"histogram2dcontour\"}],\"mesh3d\":[{\"colorbar\":{\"outlinewidth\":0,\"ticks\":\"\"},\"type\":\"mesh3d\"}],\"parcoords\":[{\"line\":{\"colorbar\":{\"outlinewidth\":0,\"ticks\":\"\"}},\"type\":\"parcoords\"}],\"pie\":[{\"automargin\":true,\"type\":\"pie\"}],\"scatter\":[{\"marker\":{\"colorbar\":{\"outlinewidth\":0,\"ticks\":\"\"}},\"type\":\"scatter\"}],\"scatter3d\":[{\"line\":{\"colorbar\":{\"outlinewidth\":0,\"ticks\":\"\"}},\"marker\":{\"colorbar\":{\"outlinewidth\":0,\"ticks\":\"\"}},\"type\":\"scatter3d\"}],\"scattercarpet\":[{\"marker\":{\"colorbar\":{\"outlinewidth\":0,\"ticks\":\"\"}},\"type\":\"scattercarpet\"}],\"scattergeo\":[{\"marker\":{\"colorbar\":{\"outlinewidth\":0,\"ticks\":\"\"}},\"type\":\"scattergeo\"}],\"scattergl\":[{\"marker\":{\"colorbar\":{\"outlinewidth\":0,\"ticks\":\"\"}},\"type\":\"scattergl\"}],\"scattermapbox\":[{\"marker\":{\"colorbar\":{\"outlinewidth\":0,\"ticks\":\"\"}},\"type\":\"scattermapbox\"}],\"scatterpolar\":[{\"marker\":{\"colorbar\":{\"outlinewidth\":0,\"ticks\":\"\"}},\"type\":\"scatterpolar\"}],\"scatterpolargl\":[{\"marker\":{\"colorbar\":{\"outlinewidth\":0,\"ticks\":\"\"}},\"type\":\"scatterpolargl\"}],\"scatterternary\":[{\"marker\":{\"colorbar\":{\"outlinewidth\":0,\"ticks\":\"\"}},\"type\":\"scatterternary\"}],\"surface\":[{\"colorbar\":{\"outlinewidth\":0,\"ticks\":\"\"},\"colorscale\":[[0.0,\"#0d0887\"],[0.1111111111111111,\"#46039f\"],[0.2222222222222222,\"#7201a8\"],[0.3333333333333333,\"#9c179e\"],[0.4444444444444444,\"#bd3786\"],[0.5555555555555556,\"#d8576b\"],[0.6666666666666666,\"#ed7953\"],[0.7777777777777778,\"#fb9f3a\"],[0.8888888888888888,\"#fdca26\"],[1.0,\"#f0f921\"]],\"type\":\"surface\"}],\"table\":[{\"cells\":{\"fill\":{\"color\":\"#EBF0F8\"},\"line\":{\"color\":\"white\"}},\"header\":{\"fill\":{\"color\":\"#C8D4E3\"},\"line\":{\"color\":\"white\"}},\"type\":\"table\"}]},\"layout\":{\"annotationdefaults\":{\"arrowcolor\":\"#2a3f5f\",\"arrowhead\":0,\"arrowwidth\":1},\"autotypenumbers\":\"strict\",\"coloraxis\":{\"colorbar\":{\"outlinewidth\":0,\"ticks\":\"\"}},\"colorscale\":{\"diverging\":[[0,\"#8e0152\"],[0.1,\"#c51b7d\"],[0.2,\"#de77ae\"],[0.3,\"#f1b6da\"],[0.4,\"#fde0ef\"],[0.5,\"#f7f7f7\"],[0.6,\"#e6f5d0\"],[0.7,\"#b8e186\"],[0.8,\"#7fbc41\"],[0.9,\"#4d9221\"],[1,\"#276419\"]],\"sequential\":[[0.0,\"#0d0887\"],[0.1111111111111111,\"#46039f\"],[0.2222222222222222,\"#7201a8\"],[0.3333333333333333,\"#9c179e\"],[0.4444444444444444,\"#bd3786\"],[0.5555555555555556,\"#d8576b\"],[0.6666666666666666,\"#ed7953\"],[0.7777777777777778,\"#fb9f3a\"],[0.8888888888888888,\"#fdca26\"],[1.0,\"#f0f921\"]],\"sequentialminus\":[[0.0,\"#0d0887\"],[0.1111111111111111,\"#46039f\"],[0.2222222222222222,\"#7201a8\"],[0.3333333333333333,\"#9c179e\"],[0.4444444444444444,\"#bd3786\"],[0.5555555555555556,\"#d8576b\"],[0.6666666666666666,\"#ed7953\"],[0.7777777777777778,\"#fb9f3a\"],[0.8888888888888888,\"#fdca26\"],[1.0,\"#f0f921\"]]},\"colorway\":[\"#636efa\",\"#EF553B\",\"#00cc96\",\"#ab63fa\",\"#FFA15A\",\"#19d3f3\",\"#FF6692\",\"#B6E880\",\"#FF97FF\",\"#FECB52\"],\"font\":{\"color\":\"#2a3f5f\"},\"geo\":{\"bgcolor\":\"white\",\"lakecolor\":\"white\",\"landcolor\":\"#E5ECF6\",\"showlakes\":true,\"showland\":true,\"subunitcolor\":\"white\"},\"hoverlabel\":{\"align\":\"left\"},\"hovermode\":\"closest\",\"mapbox\":{\"style\":\"light\"},\"paper_bgcolor\":\"white\",\"plot_bgcolor\":\"#E5ECF6\",\"polar\":{\"angularaxis\":{\"gridcolor\":\"white\",\"linecolor\":\"white\",\"ticks\":\"\"},\"bgcolor\":\"#E5ECF6\",\"radialaxis\":{\"gridcolor\":\"white\",\"linecolor\":\"white\",\"ticks\":\"\"}},\"scene\":{\"xaxis\":{\"backgroundcolor\":\"#E5ECF6\",\"gridcolor\":\"white\",\"gridwidth\":2,\"linecolor\":\"white\",\"showbackground\":true,\"ticks\":\"\",\"zerolinecolor\":\"white\"},\"yaxis\":{\"backgroundcolor\":\"#E5ECF6\",\"gridcolor\":\"white\",\"gridwidth\":2,\"linecolor\":\"white\",\"showbackground\":true,\"ticks\":\"\",\"zerolinecolor\":\"white\"},\"zaxis\":{\"backgroundcolor\":\"#E5ECF6\",\"gridcolor\":\"white\",\"gridwidth\":2,\"linecolor\":\"white\",\"showbackground\":true,\"ticks\":\"\",\"zerolinecolor\":\"white\"}},\"shapedefaults\":{\"line\":{\"color\":\"#2a3f5f\"}},\"ternary\":{\"aaxis\":{\"gridcolor\":\"white\",\"linecolor\":\"white\",\"ticks\":\"\"},\"baxis\":{\"gridcolor\":\"white\",\"linecolor\":\"white\",\"ticks\":\"\"},\"bgcolor\":\"#E5ECF6\",\"caxis\":{\"gridcolor\":\"white\",\"linecolor\":\"white\",\"ticks\":\"\"}},\"title\":{\"x\":0.05},\"xaxis\":{\"automargin\":true,\"gridcolor\":\"white\",\"linecolor\":\"white\",\"ticks\":\"\",\"title\":{\"standoff\":15},\"zerolinecolor\":\"white\",\"zerolinewidth\":2},\"yaxis\":{\"automargin\":true,\"gridcolor\":\"white\",\"linecolor\":\"white\",\"ticks\":\"\",\"title\":{\"standoff\":15},\"zerolinecolor\":\"white\",\"zerolinewidth\":2}}},\"xaxis\":{\"anchor\":\"y\",\"domain\":[0.0,1.0],\"title\":{\"text\":\"Year\"}},\"yaxis\":{\"anchor\":\"x\",\"domain\":[0.0,1.0],\"title\":{\"text\":\"Title\"}},\"legend\":{\"tracegroupgap\":0},\"margin\":{\"t\":60},\"title\":{\"text\":\"No. of Titles by all artist from 2001-2021\",\"y\":0.95,\"x\":0.5,\"xanchor\":\"center\",\"yanchor\":\"top\"}},                        {\"responsive\": true}                    ).then(function(){\n",
       "                            \n",
       "var gd = document.getElementById('516d7d33-d2ff-4059-b48a-9a05c90f1f06');\n",
       "var x = new MutationObserver(function (mutations, observer) {{\n",
       "        var display = window.getComputedStyle(gd).display;\n",
       "        if (!display || display === 'none') {{\n",
       "            console.log([gd, 'removed!']);\n",
       "            Plotly.purge(gd);\n",
       "            observer.disconnect();\n",
       "        }}\n",
       "}});\n",
       "\n",
       "// Listen for the removal of the full notebook cells\n",
       "var notebookContainer = gd.closest('#notebook-container');\n",
       "if (notebookContainer) {{\n",
       "    x.observe(notebookContainer, {childList: true});\n",
       "}}\n",
       "\n",
       "// Listen for the clearing of the current output cell\n",
       "var outputEl = gd.closest('.output');\n",
       "if (outputEl) {{\n",
       "    x.observe(outputEl, {childList: true});\n",
       "}}\n",
       "\n",
       "                        })                };                });            </script>        </div>"
      ]
     },
     "metadata": {},
     "output_type": "display_data"
    }
   ],
   "source": [
    "df_temp= df_group.drop('Artist',axis=1)\n",
    "df_temp=df_temp.groupby(['Year']).count()\n",
    "df_temp=df_temp.reset_index()\n",
    "fig = px.line(df_temp, x='Year',y='Title')\n",
    "fig.update_layout(title={'text': \"No. of Titles by all artist from 2001-2021\",'y':0.95,'x':0.5,'xanchor': 'center','yanchor': 'top'})\n",
    "fig.show()"
   ]
  },
  {
   "cell_type": "markdown",
   "id": "female-mozambique",
   "metadata": {
    "papermill": {
     "duration": 0.025735,
     "end_time": "2021-05-15T20:04:30.098491",
     "exception": false,
     "start_time": "2021-05-15T20:04:30.072756",
     "status": "completed"
    },
    "tags": []
   },
   "source": [
    "* Now let's look at the above visualization with respect to each artist."
   ]
  },
  {
   "cell_type": "code",
   "execution_count": 22,
   "id": "focused-bankruptcy",
   "metadata": {
    "execution": {
     "iopub.execute_input": "2021-05-15T20:04:30.178562Z",
     "iopub.status.busy": "2021-05-15T20:04:30.177730Z",
     "iopub.status.idle": "2021-05-15T20:04:33.667134Z",
     "shell.execute_reply": "2021-05-15T20:04:33.666596Z"
    },
    "papermill": {
     "duration": 3.542748,
     "end_time": "2021-05-15T20:04:33.667283",
     "exception": false,
     "start_time": "2021-05-15T20:04:30.124535",
     "status": "completed"
    },
    "tags": []
   },
   "outputs": [
    {
     "data": {
      "text/plain": [
       "Text(0.5, 1.0, 'Selena Gomez')"
      ]
     },
     "execution_count": 22,
     "metadata": {},
     "output_type": "execute_result"
    },
    {
     "data": {
      "image/png": "[encoded data removed]",
      "text/plain": [
       "<Figure size 1512x1512 with 9 Axes>"
      ]
     },
     "metadata": {},
     "output_type": "display_data"
    },
    {
     "data": {
      "image/png": "[encoded data removed]",
      "text/plain": [
       "<Figure size 864x432 with 2 Axes>"
      ]
     },
     "metadata": {},
     "output_type": "display_data"
    }
   ],
   "source": [
    "df_temp=[]\n",
    "name=df_main['Artist'].unique()\n",
    "name=name[0:9]\n",
    "num_plots = 9\n",
    "total_cols = 3\n",
    "total_rows = 3\n",
    "fig, axs = plt.subplots(nrows=total_rows, ncols=total_cols,\n",
    "                        figsize=(7*total_cols, 7*total_rows), constrained_layout=True)\n",
    "for artist in df_main['Artist'].unique():\n",
    "    df_temp.append(df_group[df_group['Artist']==artist])\n",
    "for i, var in enumerate(name):\n",
    "    row = i//total_cols\n",
    "    pos = i % total_cols\n",
    "    plot = sns.barplot(data=df_temp[i],x=\"Year\", y=\"Title\",ax=axs[row][pos])\n",
    "    axs[row][pos].set_title(name[i])\n",
    "\n",
    "\n",
    "name=df_main['Artist'].unique()\n",
    "name=name[9:11]\n",
    "fig, axs = plt.subplots(nrows=1, ncols=2,\n",
    "                        figsize=(12, 6), constrained_layout=True)\n",
    "plot = sns.barplot(data=df_temp[9],x=\"Year\", y=\"Title\",ax=axs[0])\n",
    "axs[0].set_title(name[0])\n",
    "plot = sns.barplot(data=df_temp[10],x=\"Year\", y=\"Title\",ax=axs[1])\n",
    "axs[1].set_title(name[1])"
   ]
  },
  {
   "cell_type": "markdown",
   "id": "empty-applicant",
   "metadata": {
    "papermill": {
     "duration": 0.102858,
     "end_time": "2021-05-15T20:04:40.231798",
     "exception": false,
     "start_time": "2021-05-15T20:04:40.128940",
     "status": "completed"
    },
    "tags": []
   },
   "source": [
    "# Sentiment Analysis\n",
    "Now we will analyze the sentiment of each song\n",
    "\n",
    "Analysis is done with a function SentimentIntensityAnalyzer "
   ]
  },
  {
   "cell_type": "code",
   "execution_count": 23,
   "id": "offensive-hawaiian",
   "metadata": {
    "execution": {
     "iopub.execute_input": "2021-05-15T20:04:40.447434Z",
     "iopub.status.busy": "2021-05-15T20:04:40.446727Z",
     "iopub.status.idle": "2021-05-15T20:04:40.449723Z",
     "shell.execute_reply": "2021-05-15T20:04:40.449225Z"
    },
    "papermill": {
     "duration": 0.115514,
     "end_time": "2021-05-15T20:04:40.449862",
     "exception": false,
     "start_time": "2021-05-15T20:04:40.334348",
     "status": "completed"
    },
    "tags": []
   },
   "outputs": [],
   "source": [
    "\n",
    "#Create lists to store the different scores for each word\n",
    "def setimentanalyzer(df):\n",
    "    neg='Negative'\n",
    "    neu='Neutral'\n",
    "    pos='Positive'\n",
    "    negative = []\n",
    "    neutral = []\n",
    "    positive = []\n",
    "    dominant_sentiment=[]\n",
    "    dominant_sentiment_score=[]\n",
    "    #Initialize the model\n",
    "    sid = SentimentIntensityAnalyzer()\n",
    "    #Iterate for each row of lyrics and append the scores\n",
    "    for i in df.index:\n",
    "       \n",
    "        scores = sid.polarity_scores(df['Lyric'].iloc[i])\n",
    "        negative.append(scores['neg'])\n",
    "        neutral.append(scores['neu'])\n",
    "        positive.append(scores['pos'])\n",
    "        if scores['neg']>scores['pos']:\n",
    "            dominant_sentiment_score.append(scores['neg'])\n",
    "            dominant_sentiment.append(neg)\n",
    "        elif scores['neg']<scores['pos']:\n",
    "            dominant_sentiment_score.append(scores['pos'])\n",
    "            dominant_sentiment.append(pos)\n",
    "        else:\n",
    "            dominant_sentiment_score.append(scores['neu'])\n",
    "            dominant_sentiment.append(neu)\n",
    "    #Create 5 columns to the main data frame  for each score\n",
    "    df['negative'] = negative\n",
    "    df['neutral'] = neutral\n",
    "    df['positive'] = positive\n",
    "    df['dominant_sentiment']=dominant_sentiment\n",
    "    df['dominant_sentiment_score']=dominant_sentiment_score\n",
    "    return df"
   ]
  },
  {
   "cell_type": "code",
   "execution_count": 24,
   "id": "disabled-kennedy",
   "metadata": {
    "execution": {
     "iopub.execute_input": "2021-05-15T20:04:40.658145Z",
     "iopub.status.busy": "2021-05-15T20:04:40.657515Z",
     "iopub.status.idle": "2021-05-15T20:04:45.966759Z",
     "shell.execute_reply": "2021-05-15T20:04:45.967286Z"
    },
    "papermill": {
     "duration": 5.415913,
     "end_time": "2021-05-15T20:04:45.967463",
     "exception": false,
     "start_time": "2021-05-15T20:04:40.551550",
     "status": "completed"
    },
    "tags": []
   },
   "outputs": [
    {
     "data": {
      "text/html": [
       "<div>\n",
       "<style scoped>\n",
       "    .dataframe tbody tr th:only-of-type {\n",
       "        vertical-align: middle;\n",
       "    }\n",
       "\n",
       "    .dataframe tbody tr th {\n",
       "        vertical-align: top;\n",
       "    }\n",
       "\n",
       "    .dataframe thead th {\n",
       "        text-align: right;\n",
       "    }\n",
       "</style>\n",
       "<table border=\"1\" class=\"dataframe\">\n",
       "  <thead>\n",
       "    <tr style=\"text-align: right;\">\n",
       "      <th></th>\n",
       "      <th>Artist</th>\n",
       "      <th>Title</th>\n",
       "      <th>Album</th>\n",
       "      <th>Date</th>\n",
       "      <th>Lyric</th>\n",
       "      <th>Year</th>\n",
       "      <th>words</th>\n",
       "      <th></th>\n",
       "      <th>negative</th>\n",
       "      <th>neutral</th>\n",
       "      <th>positive</th>\n",
       "      <th>dominant_sentiment</th>\n",
       "      <th>dominant_sentiment_score</th>\n",
       "    </tr>\n",
       "  </thead>\n",
       "  <tbody>\n",
       "    <tr>\n",
       "      <th>0</th>\n",
       "      <td>Ariana Grande</td>\n",
       "      <td>​thank u, next</td>\n",
       "      <td>thank u, next</td>\n",
       "      <td>2018-11-03</td>\n",
       "      <td>thought i'd end up with sean but he wasn't a m...</td>\n",
       "      <td>2018</td>\n",
       "      <td>[thought, id, end, sean, match, wrote, song, r...</td>\n",
       "      <td>NaN</td>\n",
       "      <td>0.062</td>\n",
       "      <td>0.503</td>\n",
       "      <td>0.435</td>\n",
       "      <td>Positive</td>\n",
       "      <td>0.435</td>\n",
       "    </tr>\n",
       "    <tr>\n",
       "      <th>1</th>\n",
       "      <td>Ariana Grande</td>\n",
       "      <td>7 rings</td>\n",
       "      <td>thank u, next</td>\n",
       "      <td>2019-01-18</td>\n",
       "      <td>yeah breakfast at tiffany's and bottles of bub...</td>\n",
       "      <td>2019</td>\n",
       "      <td>[yeah, breakfast, tiffany, bottle, bubble, gir...</td>\n",
       "      <td>NaN</td>\n",
       "      <td>0.070</td>\n",
       "      <td>0.650</td>\n",
       "      <td>0.280</td>\n",
       "      <td>Positive</td>\n",
       "      <td>0.280</td>\n",
       "    </tr>\n",
       "    <tr>\n",
       "      <th>2</th>\n",
       "      <td>Ariana Grande</td>\n",
       "      <td>​God is a woman</td>\n",
       "      <td>Sweetener</td>\n",
       "      <td>2018-07-13</td>\n",
       "      <td>you you love it how i move you you love it how...</td>\n",
       "      <td>2018</td>\n",
       "      <td>[love, move, touch, one, said, done, believe, ...</td>\n",
       "      <td>NaN</td>\n",
       "      <td>0.000</td>\n",
       "      <td>0.733</td>\n",
       "      <td>0.267</td>\n",
       "      <td>Positive</td>\n",
       "      <td>0.267</td>\n",
       "    </tr>\n",
       "    <tr>\n",
       "      <th>3</th>\n",
       "      <td>Ariana Grande</td>\n",
       "      <td>Side To Side</td>\n",
       "      <td>Dangerous Woman</td>\n",
       "      <td>2016-05-20</td>\n",
       "      <td>ariana grande  nicki minaj i've been here all ...</td>\n",
       "      <td>2016</td>\n",
       "      <td>[ariana, grande, nicki, minaj, ive, night, day...</td>\n",
       "      <td>NaN</td>\n",
       "      <td>0.062</td>\n",
       "      <td>0.865</td>\n",
       "      <td>0.073</td>\n",
       "      <td>Positive</td>\n",
       "      <td>0.073</td>\n",
       "    </tr>\n",
       "    <tr>\n",
       "      <th>4</th>\n",
       "      <td>Ariana Grande</td>\n",
       "      <td>​​no tears left to cry</td>\n",
       "      <td>Sweetener</td>\n",
       "      <td>2018-04-20</td>\n",
       "      <td>right now i'm in a state of mind i wanna be in...</td>\n",
       "      <td>2018</td>\n",
       "      <td>[right, im, state, mind, wanna, like, time, ai...</td>\n",
       "      <td>NaN</td>\n",
       "      <td>0.079</td>\n",
       "      <td>0.716</td>\n",
       "      <td>0.204</td>\n",
       "      <td>Positive</td>\n",
       "      <td>0.204</td>\n",
       "    </tr>\n",
       "  </tbody>\n",
       "</table>\n",
       "</div>"
      ],
      "text/plain": [
       "          Artist                   Title            Album        Date  \\\n",
       "0  Ariana Grande          ​thank u, next    thank u, next  2018-11-03   \n",
       "1  Ariana Grande                 7 rings    thank u, next  2019-01-18   \n",
       "2  Ariana Grande         ​God is a woman        Sweetener  2018-07-13   \n",
       "3  Ariana Grande            Side To Side  Dangerous Woman  2016-05-20   \n",
       "4  Ariana Grande  ​​no tears left to cry        Sweetener  2018-04-20   \n",
       "\n",
       "                                               Lyric  Year  \\\n",
       "0  thought i'd end up with sean but he wasn't a m...  2018   \n",
       "1  yeah breakfast at tiffany's and bottles of bub...  2019   \n",
       "2  you you love it how i move you you love it how...  2018   \n",
       "3  ariana grande  nicki minaj i've been here all ...  2016   \n",
       "4  right now i'm in a state of mind i wanna be in...  2018   \n",
       "\n",
       "                                               words       negative  neutral  \\\n",
       "0  [thought, id, end, sean, match, wrote, song, r...  NaN     0.062    0.503   \n",
       "1  [yeah, breakfast, tiffany, bottle, bubble, gir...  NaN     0.070    0.650   \n",
       "2  [love, move, touch, one, said, done, believe, ...  NaN     0.000    0.733   \n",
       "3  [ariana, grande, nicki, minaj, ive, night, day...  NaN     0.062    0.865   \n",
       "4  [right, im, state, mind, wanna, like, time, ai...  NaN     0.079    0.716   \n",
       "\n",
       "   positive dominant_sentiment  dominant_sentiment_score  \n",
       "0     0.435           Positive                     0.435  \n",
       "1     0.280           Positive                     0.280  \n",
       "2     0.267           Positive                     0.267  \n",
       "3     0.073           Positive                     0.073  \n",
       "4     0.204           Positive                     0.204  "
      ]
     },
     "execution_count": 24,
     "metadata": {},
     "output_type": "execute_result"
    }
   ],
   "source": [
    "df_sentiment=setimentanalyzer(df_main)\n",
    "df_sentiment.head(5)"
   ]
  },
  {
   "cell_type": "markdown",
   "id": "compact-arbor",
   "metadata": {
    "papermill": {
     "duration": 0.101055,
     "end_time": "2021-05-15T20:04:46.172738",
     "exception": false,
     "start_time": "2021-05-15T20:04:46.071683",
     "status": "completed"
    },
    "tags": []
   },
   "source": [
    "Now based on the above table we do the follwing analyisis where we find out the dominant sentiment of each artist"
   ]
  },
  {
   "cell_type": "code",
   "execution_count": 25,
   "id": "organizational-treaty",
   "metadata": {
    "execution": {
     "iopub.execute_input": "2021-05-15T20:04:46.381800Z",
     "iopub.status.busy": "2021-05-15T20:04:46.380832Z",
     "iopub.status.idle": "2021-05-15T20:04:48.853165Z",
     "shell.execute_reply": "2021-05-15T20:04:48.852522Z"
    },
    "papermill": {
     "duration": 2.577693,
     "end_time": "2021-05-15T20:04:48.853305",
     "exception": false,
     "start_time": "2021-05-15T20:04:46.275612",
     "status": "completed"
    },
    "tags": []
   },
   "outputs": [
    {
     "data": {
      "text/plain": [
       "Text(0.5, 1.0, 'Selena Gomez')"
      ]
     },
     "execution_count": 25,
     "metadata": {},
     "output_type": "execute_result"
    },
    {
     "data": {
      "image/png": "[encoded data removed]",
      "text/plain": [
       "<Figure size 1080x1080 with 9 Axes>"
      ]
     },
     "metadata": {},
     "output_type": "display_data"
    },
    {
     "data": {
      "image/png": "[encoded data removed]",
      "text/plain": [
       "<Figure size 720x360 with 2 Axes>"
      ]
     },
     "metadata": {},
     "output_type": "display_data"
    }
   ],
   "source": [
    "df_temp=[]\n",
    "name=df_sentiment['Artist'].unique()\n",
    "name=name[0:9]\n",
    "num_plots = 9\n",
    "total_cols = 3\n",
    "total_rows = 3\n",
    "#fig, axs = plt.subplots(nrows=total_rows, ncols=total_cols,\n",
    "fig, axs = plt.subplots(nrows=total_rows, ncols=total_cols,\n",
    "                        figsize=(5*total_cols, 5*total_rows), constrained_layout=True)\n",
    "for artist in df_main['Artist'].unique():\n",
    "    df_temp.append(df_sentiment[df_sentiment['Artist']==artist])\n",
    "for i, var in enumerate(name):\n",
    "    row = i//total_cols\n",
    "    pos = i % total_cols\n",
    "    plot = sns.swarmplot(data=df_temp[i], x=\"dominant_sentiment\", y=\"dominant_sentiment_score\",ax=axs[row][pos])\n",
    "    axs[row][pos].set_title(name[i])\n",
    "    \n",
    "name=df_main['Artist'].unique()\n",
    "name=name[9:11]\n",
    "fig, axs = plt.subplots(nrows=1, ncols=2,\n",
    "                        figsize=(10, 5), constrained_layout=True)\n",
    "plot = sns.swarmplot(data=df_temp[9], x=\"dominant_sentiment\", y=\"dominant_sentiment_score\",ax=axs[0])\n",
    "axs[0].set_title(name[0])\n",
    "plot = sns.swarmplot(data=df_temp[10], x=\"dominant_sentiment\", y=\"dominant_sentiment_score\",ax=axs[1])\n",
    "axs[1].set_title(name[1])"
   ]
  },
  {
   "cell_type": "code",
   "execution_count": 26,
   "id": "limiting-football",
   "metadata": {
    "execution": {
     "iopub.execute_input": "2021-05-15T20:04:49.083697Z",
     "iopub.status.busy": "2021-05-15T20:04:49.083041Z",
     "iopub.status.idle": "2021-05-15T20:04:49.097663Z",
     "shell.execute_reply": "2021-05-15T20:04:49.097168Z"
    },
    "papermill": {
     "duration": 0.131029,
     "end_time": "2021-05-15T20:04:49.097805",
     "exception": false,
     "start_time": "2021-05-15T20:04:48.966776",
     "status": "completed"
    },
    "tags": []
   },
   "outputs": [
    {
     "data": {
      "text/html": [
       "<div>\n",
       "<style scoped>\n",
       "    .dataframe tbody tr th:only-of-type {\n",
       "        vertical-align: middle;\n",
       "    }\n",
       "\n",
       "    .dataframe tbody tr th {\n",
       "        vertical-align: top;\n",
       "    }\n",
       "\n",
       "    .dataframe thead th {\n",
       "        text-align: right;\n",
       "    }\n",
       "</style>\n",
       "<table border=\"1\" class=\"dataframe\">\n",
       "  <thead>\n",
       "    <tr style=\"text-align: right;\">\n",
       "      <th></th>\n",
       "      <th>negative</th>\n",
       "      <th>neutral</th>\n",
       "      <th>positive</th>\n",
       "      <th>dominant_sentiment_score</th>\n",
       "    </tr>\n",
       "    <tr>\n",
       "      <th>Artist</th>\n",
       "      <th></th>\n",
       "      <th></th>\n",
       "      <th></th>\n",
       "      <th></th>\n",
       "    </tr>\n",
       "  </thead>\n",
       "  <tbody>\n",
       "    <tr>\n",
       "      <th>Ariana Grande</th>\n",
       "      <td>0.072847</td>\n",
       "      <td>0.750421</td>\n",
       "      <td>0.176683</td>\n",
       "      <td>0.224144</td>\n",
       "    </tr>\n",
       "    <tr>\n",
       "      <th>Beyoncé</th>\n",
       "      <td>0.076330</td>\n",
       "      <td>0.752429</td>\n",
       "      <td>0.171277</td>\n",
       "      <td>0.213424</td>\n",
       "    </tr>\n",
       "    <tr>\n",
       "      <th>Billie Eilish</th>\n",
       "      <td>0.118247</td>\n",
       "      <td>0.746260</td>\n",
       "      <td>0.135493</td>\n",
       "      <td>0.236562</td>\n",
       "    </tr>\n",
       "    <tr>\n",
       "      <th>Ed Sheeran</th>\n",
       "      <td>0.088698</td>\n",
       "      <td>0.762545</td>\n",
       "      <td>0.148752</td>\n",
       "      <td>0.196921</td>\n",
       "    </tr>\n",
       "    <tr>\n",
       "      <th>Justin Bieber</th>\n",
       "      <td>0.075388</td>\n",
       "      <td>0.761220</td>\n",
       "      <td>0.163377</td>\n",
       "      <td>0.193769</td>\n",
       "    </tr>\n",
       "    <tr>\n",
       "      <th>Katy Perry</th>\n",
       "      <td>0.086000</td>\n",
       "      <td>0.763984</td>\n",
       "      <td>0.150063</td>\n",
       "      <td>0.212995</td>\n",
       "    </tr>\n",
       "    <tr>\n",
       "      <th>Lady Gaga</th>\n",
       "      <td>0.090178</td>\n",
       "      <td>0.744915</td>\n",
       "      <td>0.164949</td>\n",
       "      <td>0.240335</td>\n",
       "    </tr>\n",
       "    <tr>\n",
       "      <th>Maroon 5</th>\n",
       "      <td>0.108960</td>\n",
       "      <td>0.729224</td>\n",
       "      <td>0.161856</td>\n",
       "      <td>0.201720</td>\n",
       "    </tr>\n",
       "    <tr>\n",
       "      <th>Post Malone</th>\n",
       "      <td>0.126906</td>\n",
       "      <td>0.733523</td>\n",
       "      <td>0.139562</td>\n",
       "      <td>0.195805</td>\n",
       "    </tr>\n",
       "    <tr>\n",
       "      <th>Rihanna</th>\n",
       "      <td>0.085448</td>\n",
       "      <td>0.734137</td>\n",
       "      <td>0.180419</td>\n",
       "      <td>0.220859</td>\n",
       "    </tr>\n",
       "    <tr>\n",
       "      <th>Selena Gomez</th>\n",
       "      <td>0.093843</td>\n",
       "      <td>0.747537</td>\n",
       "      <td>0.158630</td>\n",
       "      <td>0.225574</td>\n",
       "    </tr>\n",
       "  </tbody>\n",
       "</table>\n",
       "</div>"
      ],
      "text/plain": [
       "               negative   neutral  positive  dominant_sentiment_score\n",
       "Artist                                                               \n",
       "Ariana Grande  0.072847  0.750421  0.176683                  0.224144\n",
       "Beyoncé        0.076330  0.752429  0.171277                  0.213424\n",
       "Billie Eilish  0.118247  0.746260  0.135493                  0.236562\n",
       "Ed Sheeran     0.088698  0.762545  0.148752                  0.196921\n",
       "Justin Bieber  0.075388  0.761220  0.163377                  0.193769\n",
       "Katy Perry     0.086000  0.763984  0.150063                  0.212995\n",
       "Lady Gaga      0.090178  0.744915  0.164949                  0.240335\n",
       "Maroon 5       0.108960  0.729224  0.161856                  0.201720\n",
       "Post Malone    0.126906  0.733523  0.139562                  0.195805\n",
       "Rihanna        0.085448  0.734137  0.180419                  0.220859\n",
       "Selena Gomez   0.093843  0.747537  0.158630                  0.225574"
      ]
     },
     "execution_count": 26,
     "metadata": {},
     "output_type": "execute_result"
    }
   ],
   "source": [
    "means_df = df_sentiment.groupby(['Artist']).mean()\n",
    "means_df"
   ]
  },
  {
   "cell_type": "code",
   "execution_count": 27,
   "id": "romantic-replacement",
   "metadata": {
    "execution": {
     "iopub.execute_input": "2021-05-15T20:04:49.357241Z",
     "iopub.status.busy": "2021-05-15T20:04:49.356545Z",
     "iopub.status.idle": "2021-05-15T20:04:49.805648Z",
     "shell.execute_reply": "2021-05-15T20:04:49.806295Z"
    },
    "papermill": {
     "duration": 0.594004,
     "end_time": "2021-05-15T20:04:49.806482",
     "exception": false,
     "start_time": "2021-05-15T20:04:49.212478",
     "status": "completed"
    },
    "tags": []
   },
   "outputs": [
    {
     "data": {
      "image/png": "[encoded data removed]",
      "text/plain": [
       "<Figure size 576x396 with 1 Axes>"
      ]
     },
     "metadata": {},
     "output_type": "display_data"
    }
   ],
   "source": [
    "x = np.linspace(0, 10, 1000)\n",
    "for name, group in means_df.groupby('Artist'):\n",
    "    plt.scatter(group['positive'],group['negative'],label=name)\n",
    "    plt.legend()\n",
    "plt.xlim([0,0.3])\n",
    "plt.ylim([0,0.3])\n",
    "plt.plot(x, x+0, linestyle='solid')\n",
    "plt.title(\"Positive Valence vs Negative  Valence\")\n",
    "plt.xlabel('Positive Valence')\n",
    "plt.ylabel('Negative  Valence')\n",
    "plt.show()#positive and negative region"
   ]
  },
  {
   "cell_type": "code",
   "execution_count": null,
   "id": "27eadd7c",
   "metadata": {},
   "outputs": [],
   "source": []
  }
 ],
 "metadata": {
  "kernelspec": {
   "display_name": "Python 3",
   "language": "python",
   "name": "python3"
  },
  "language_info": {
   "codemirror_mode": {
    "name": "ipython",
    "version": 3
   },
   "file_extension": ".py",
   "mimetype": "text/x-python",
   "name": "python",
   "nbconvert_exporter": "python",
   "pygments_lexer": "ipython3",
   "version": "3.8.8"
  },
  "papermill": {
   "default_parameters": {},
   "duration": 39.856306,
   "end_time": "2021-05-15T20:04:51.370093",
   "environment_variables": {},
   "exception": null,
   "input_path": "__notebook__.ipynb",
   "output_path": "__notebook__.ipynb",
   "parameters": {},
   "start_time": "2021-05-15T20:04:11.513787",
   "version": "2.3.3"
  }
 },
 "nbformat": 4,
 "nbformat_minor": 5
}
